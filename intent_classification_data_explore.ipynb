{
 "cells": [
  {
   "cell_type": "markdown",
   "metadata": {},
   "source": [
    "# Read data & verify"
   ]
  },
  {
   "cell_type": "code",
   "execution_count": 25,
   "metadata": {
    "collapsed": true
   },
   "outputs": [],
   "source": [
    "import pandas as pd\n",
    "import glob,os"
   ]
  },
  {
   "cell_type": "markdown",
   "metadata": {},
   "source": [
    "### check every annotated csv file to see if there's NaN and get the dataframe's shape"
   ]
  },
  {
   "cell_type": "code",
   "execution_count": 26,
   "metadata": {},
   "outputs": [
    {
     "name": "stdout",
     "output_type": "stream",
     "text": [
      "False (380, 6)\n",
      "False (465, 6)\n",
      "False (555, 6)\n",
      "False (526, 6)\n",
      "False (860, 6)\n",
      "False (598, 6)\n",
      "False (507, 6)\n",
      "False (476, 6)\n",
      "False (377, 6)\n"
     ]
    }
   ],
   "source": [
    "dossier_list = os.listdir(\".\")\n",
    "\n",
    "for d in dossier_list:\n",
    "    if d[-3:]==\"csv\":\n",
    "        df=pd.read_csv(d, sep='\\t',header=None)\n",
    "        print(df.isnull().values.any(),df.shape)\n",
    "#         print(d,'\\n',df[pd.isnull(df).any(axis=1)])"
   ]
  },
  {
   "cell_type": "markdown",
   "metadata": {},
   "source": [
    "## concatenate all the dataframes to be a big one, with index ignored. \n",
    "## also check the shape of the dataframe"
   ]
  },
  {
   "cell_type": "code",
   "execution_count": 27,
   "metadata": {},
   "outputs": [
    {
     "data": {
      "text/html": [
       "<div>\n",
       "<style>\n",
       "    .dataframe thead tr:only-child th {\n",
       "        text-align: right;\n",
       "    }\n",
       "\n",
       "    .dataframe thead th {\n",
       "        text-align: left;\n",
       "    }\n",
       "\n",
       "    .dataframe tbody tr th {\n",
       "        vertical-align: top;\n",
       "    }\n",
       "</style>\n",
       "<table border=\"1\" class=\"dataframe\">\n",
       "  <thead>\n",
       "    <tr style=\"text-align: right;\">\n",
       "      <th></th>\n",
       "      <th>0</th>\n",
       "      <th>1</th>\n",
       "      <th>2</th>\n",
       "      <th>3</th>\n",
       "      <th>4</th>\n",
       "      <th>5</th>\n",
       "    </tr>\n",
       "  </thead>\n",
       "  <tbody>\n",
       "    <tr>\n",
       "      <th>0</th>\n",
       "      <td>S1E601</td>\n",
       "      <td>captain_election</td>\n",
       "      <td>1号</td>\n",
       "      <td>1号预言家</td>\n",
       "      <td>民</td>\n",
       "      <td>defense</td>\n",
       "    </tr>\n",
       "    <tr>\n",
       "      <th>1</th>\n",
       "      <td>S1E601</td>\n",
       "      <td>captain_election</td>\n",
       "      <td>1号</td>\n",
       "      <td>昨天晚上查杀是5号牌</td>\n",
       "      <td>民</td>\n",
       "      <td>attack</td>\n",
       "    </tr>\n",
       "    <tr>\n",
       "      <th>2</th>\n",
       "      <td>S1E601</td>\n",
       "      <td>captain_election</td>\n",
       "      <td>1号</td>\n",
       "      <td>我的警徽流先验9号这张牌，帮大家正一正场上的风气，如果是查杀的话就直接走掉了</td>\n",
       "      <td>民</td>\n",
       "      <td>to_check</td>\n",
       "    </tr>\n",
       "    <tr>\n",
       "      <th>3</th>\n",
       "      <td>S1E601</td>\n",
       "      <td>captain_election</td>\n",
       "      <td>1号</td>\n",
       "      <td>然后再验呢，再验3号这张牌，3号最近进步太大了，好吧</td>\n",
       "      <td>民</td>\n",
       "      <td>to_check</td>\n",
       "    </tr>\n",
       "    <tr>\n",
       "      <th>4</th>\n",
       "      <td>S1E601</td>\n",
       "      <td>captain_election</td>\n",
       "      <td>1号</td>\n",
       "      <td>我觉得你们都是一个水平线的玩家，我先验9再验3</td>\n",
       "      <td>民</td>\n",
       "      <td>to_check</td>\n",
       "    </tr>\n",
       "  </tbody>\n",
       "</table>\n",
       "</div>"
      ],
      "text/plain": [
       "        0                 1   2                                       3  4  \\\n",
       "0  S1E601  captain_election  1号                                   1号预言家  民   \n",
       "1  S1E601  captain_election  1号                              昨天晚上查杀是5号牌  民   \n",
       "2  S1E601  captain_election  1号  我的警徽流先验9号这张牌，帮大家正一正场上的风气，如果是查杀的话就直接走掉了  民   \n",
       "3  S1E601  captain_election  1号              然后再验呢，再验3号这张牌，3号最近进步太大了，好吧  民   \n",
       "4  S1E601  captain_election  1号                 我觉得你们都是一个水平线的玩家，我先验9再验3  民   \n",
       "\n",
       "          5  \n",
       "0   defense  \n",
       "1    attack  \n",
       "2  to_check  \n",
       "3  to_check  \n",
       "4  to_check  "
      ]
     },
     "execution_count": 27,
     "metadata": {},
     "output_type": "execute_result"
    }
   ],
   "source": [
    "allFiles = glob.glob(os.path.join('',\"*.csv\"))\n",
    "dataframes = (pd.read_csv(f, sep='\\t',header=None) for f in allFiles)\n",
    "df = pd.concat(dataframes, ignore_index=True)\n",
    "df.head()"
   ]
  },
  {
   "cell_type": "code",
   "execution_count": 28,
   "metadata": {},
   "outputs": [
    {
     "data": {
      "text/plain": [
       "(4744, 6)"
      ]
     },
     "execution_count": 28,
     "metadata": {},
     "output_type": "execute_result"
    }
   ],
   "source": [
    "df.shape"
   ]
  },
  {
   "cell_type": "markdown",
   "metadata": {},
   "source": [
    "## segment the chinese words using jieba"
   ]
  },
  {
   "cell_type": "code",
   "execution_count": 32,
   "metadata": {},
   "outputs": [],
   "source": [
    "import jieba\n",
    "jieba.load_userdict(\"userdict.txt\") # I constructed an user dictionary of special terms\n",
    "\n",
    "def segment(sentence):\n",
    "    seged = jieba.cut(sentence)\n",
    "    return ' '.join(seged)"
   ]
  },
  {
   "cell_type": "code",
   "execution_count": 33,
   "metadata": {
    "collapsed": true
   },
   "outputs": [],
   "source": [
    "df.columns = ['episode', 'timestamp','player','speech','character','intent']"
   ]
  },
  {
   "cell_type": "code",
   "execution_count": 35,
   "metadata": {},
   "outputs": [],
   "source": [
    "df['segmented'] = df.speech.apply(segment)"
   ]
  },
  {
   "cell_type": "code",
   "execution_count": 36,
   "metadata": {},
   "outputs": [
    {
     "data": {
      "text/html": [
       "<div>\n",
       "<style>\n",
       "    .dataframe thead tr:only-child th {\n",
       "        text-align: right;\n",
       "    }\n",
       "\n",
       "    .dataframe thead th {\n",
       "        text-align: left;\n",
       "    }\n",
       "\n",
       "    .dataframe tbody tr th {\n",
       "        vertical-align: top;\n",
       "    }\n",
       "</style>\n",
       "<table border=\"1\" class=\"dataframe\">\n",
       "  <thead>\n",
       "    <tr style=\"text-align: right;\">\n",
       "      <th></th>\n",
       "      <th>episode</th>\n",
       "      <th>timestamp</th>\n",
       "      <th>player</th>\n",
       "      <th>speech</th>\n",
       "      <th>character</th>\n",
       "      <th>intent</th>\n",
       "      <th>segmented</th>\n",
       "    </tr>\n",
       "  </thead>\n",
       "  <tbody>\n",
       "    <tr>\n",
       "      <th>0</th>\n",
       "      <td>S1E601</td>\n",
       "      <td>captain_election</td>\n",
       "      <td>1号</td>\n",
       "      <td>1号预言家</td>\n",
       "      <td>民</td>\n",
       "      <td>defense</td>\n",
       "      <td>1 号 预言家</td>\n",
       "    </tr>\n",
       "    <tr>\n",
       "      <th>1</th>\n",
       "      <td>S1E601</td>\n",
       "      <td>captain_election</td>\n",
       "      <td>1号</td>\n",
       "      <td>昨天晚上查杀是5号牌</td>\n",
       "      <td>民</td>\n",
       "      <td>attack</td>\n",
       "      <td>昨天晚上 查杀 是 5 号牌</td>\n",
       "    </tr>\n",
       "    <tr>\n",
       "      <th>2</th>\n",
       "      <td>S1E601</td>\n",
       "      <td>captain_election</td>\n",
       "      <td>1号</td>\n",
       "      <td>我的警徽流先验9号这张牌，帮大家正一正场上的风气，如果是查杀的话就直接走掉了</td>\n",
       "      <td>民</td>\n",
       "      <td>to_check</td>\n",
       "      <td>我 的 警徽流 先验 9 号 这 张牌 ， 帮 大家 正一正 场上 的 风气 ， 如果 是 ...</td>\n",
       "    </tr>\n",
       "    <tr>\n",
       "      <th>3</th>\n",
       "      <td>S1E601</td>\n",
       "      <td>captain_election</td>\n",
       "      <td>1号</td>\n",
       "      <td>然后再验呢，再验3号这张牌，3号最近进步太大了，好吧</td>\n",
       "      <td>民</td>\n",
       "      <td>to_check</td>\n",
       "      <td>然后 再验 呢 ， 再验 3 号 这 张牌 ， 3 号 最近 进步 太大 了 ， 好 吧</td>\n",
       "    </tr>\n",
       "    <tr>\n",
       "      <th>4</th>\n",
       "      <td>S1E601</td>\n",
       "      <td>captain_election</td>\n",
       "      <td>1号</td>\n",
       "      <td>我觉得你们都是一个水平线的玩家，我先验9再验3</td>\n",
       "      <td>民</td>\n",
       "      <td>to_check</td>\n",
       "      <td>我 觉得 你们 都 是 一个 水平线 的 玩家 ， 我 先验 9 再验 3</td>\n",
       "    </tr>\n",
       "  </tbody>\n",
       "</table>\n",
       "</div>"
      ],
      "text/plain": [
       "  episode         timestamp player                                  speech  \\\n",
       "0  S1E601  captain_election     1号                                   1号预言家   \n",
       "1  S1E601  captain_election     1号                              昨天晚上查杀是5号牌   \n",
       "2  S1E601  captain_election     1号  我的警徽流先验9号这张牌，帮大家正一正场上的风气，如果是查杀的话就直接走掉了   \n",
       "3  S1E601  captain_election     1号              然后再验呢，再验3号这张牌，3号最近进步太大了，好吧   \n",
       "4  S1E601  captain_election     1号                 我觉得你们都是一个水平线的玩家，我先验9再验3   \n",
       "\n",
       "  character    intent                                          segmented  \n",
       "0         民   defense                                            1 号 预言家  \n",
       "1         民    attack                                     昨天晚上 查杀 是 5 号牌  \n",
       "2         民  to_check  我 的 警徽流 先验 9 号 这 张牌 ， 帮 大家 正一正 场上 的 风气 ， 如果 是 ...  \n",
       "3         民  to_check       然后 再验 呢 ， 再验 3 号 这 张牌 ， 3 号 最近 进步 太大 了 ， 好 吧  \n",
       "4         民  to_check              我 觉得 你们 都 是 一个 水平线 的 玩家 ， 我 先验 9 再验 3  "
      ]
     },
     "execution_count": 36,
     "metadata": {},
     "output_type": "execute_result"
    }
   ],
   "source": [
    "df.head()"
   ]
  },
  {
   "cell_type": "markdown",
   "metadata": {},
   "source": [
    "## explore the data\n"
   ]
  },
  {
   "cell_type": "code",
   "execution_count": 37,
   "metadata": {
    "collapsed": true
   },
   "outputs": [],
   "source": [
    "%matplotlib inline\n",
    "\n",
    "import matplotlib.pyplot as plt\n",
    "import matplotlib\n",
    "matplotlib.style.use('ggplot')"
   ]
  },
  {
   "cell_type": "code",
   "execution_count": 38,
   "metadata": {
    "collapsed": true
   },
   "outputs": [],
   "source": [
    "df.intent = df.intent.astype('category')"
   ]
  },
  {
   "cell_type": "code",
   "execution_count": 39,
   "metadata": {},
   "outputs": [
    {
     "data": {
      "text/html": [
       "<div>\n",
       "<style>\n",
       "    .dataframe thead tr:only-child th {\n",
       "        text-align: right;\n",
       "    }\n",
       "\n",
       "    .dataframe thead th {\n",
       "        text-align: left;\n",
       "    }\n",
       "\n",
       "    .dataframe tbody tr th {\n",
       "        vertical-align: top;\n",
       "    }\n",
       "</style>\n",
       "<table border=\"1\" class=\"dataframe\">\n",
       "  <thead>\n",
       "    <tr style=\"text-align: right;\">\n",
       "      <th></th>\n",
       "      <th>episode</th>\n",
       "      <th>timestamp</th>\n",
       "      <th>player</th>\n",
       "      <th>speech</th>\n",
       "      <th>character</th>\n",
       "      <th>intent</th>\n",
       "      <th>segmented</th>\n",
       "    </tr>\n",
       "  </thead>\n",
       "  <tbody>\n",
       "    <tr>\n",
       "      <th>count</th>\n",
       "      <td>4744</td>\n",
       "      <td>4744</td>\n",
       "      <td>4744</td>\n",
       "      <td>4744</td>\n",
       "      <td>4744</td>\n",
       "      <td>4744</td>\n",
       "      <td>4744</td>\n",
       "    </tr>\n",
       "    <tr>\n",
       "      <th>unique</th>\n",
       "      <td>9</td>\n",
       "      <td>13</td>\n",
       "      <td>12</td>\n",
       "      <td>4659</td>\n",
       "      <td>10</td>\n",
       "      <td>8</td>\n",
       "      <td>4659</td>\n",
       "    </tr>\n",
       "    <tr>\n",
       "      <th>top</th>\n",
       "      <td>S3E202</td>\n",
       "      <td>day1_speech</td>\n",
       "      <td>5号</td>\n",
       "      <td>过</td>\n",
       "      <td>民</td>\n",
       "      <td>attack</td>\n",
       "      <td>过</td>\n",
       "    </tr>\n",
       "    <tr>\n",
       "      <th>freq</th>\n",
       "      <td>860</td>\n",
       "      <td>1402</td>\n",
       "      <td>520</td>\n",
       "      <td>35</td>\n",
       "      <td>1639</td>\n",
       "      <td>1604</td>\n",
       "      <td>35</td>\n",
       "    </tr>\n",
       "  </tbody>\n",
       "</table>\n",
       "</div>"
      ],
      "text/plain": [
       "       episode    timestamp player speech character  intent segmented\n",
       "count     4744         4744   4744   4744      4744    4744      4744\n",
       "unique       9           13     12   4659        10       8      4659\n",
       "top     S3E202  day1_speech     5号      过         民  attack         过\n",
       "freq       860         1402    520     35      1639    1604        35"
      ]
     },
     "execution_count": 39,
     "metadata": {},
     "output_type": "execute_result"
    }
   ],
   "source": [
    "df.describe()"
   ]
  },
  {
   "cell_type": "markdown",
   "metadata": {},
   "source": [
    "### count the intents"
   ]
  },
  {
   "cell_type": "code",
   "execution_count": 49,
   "metadata": {},
   "outputs": [
    {
     "data": {
      "text/plain": [
       "<matplotlib.axes._subplots.AxesSubplot at 0x11d8bbac8>"
      ]
     },
     "execution_count": 49,
     "metadata": {},
     "output_type": "execute_result"
    },
    {
     "data": {
      "image/png": "[encoded data removed]",
      "text/plain": [
       "<matplotlib.figure.Figure at 0x11d8c42e8>"
      ]
     },
     "metadata": {},
     "output_type": "display_data"
    }
   ],
   "source": [
    "resume = df.intent.value_counts()\n",
    "resume.plot(kind='bar')"
   ]
  },
  {
   "cell_type": "markdown",
   "metadata": {},
   "source": [
    "### speech length statistics"
   ]
  },
  {
   "cell_type": "code",
   "execution_count": 55,
   "metadata": {},
   "outputs": [
    {
     "name": "stdout",
     "output_type": "stream",
     "text": [
      "count    4744.000000\n",
      "mean       20.746627\n",
      "std        11.156218\n",
      "min         1.000000\n",
      "25%        13.000000\n",
      "50%        19.000000\n",
      "75%        27.000000\n",
      "max       101.000000\n",
      "Name: segmented, dtype: float64\n"
     ]
    },
    {
     "data": {
      "image/png": "[encoded data removed]",
      "text/plain": [
       "<matplotlib.figure.Figure at 0x119d79b38>"
      ]
     },
     "metadata": {},
     "output_type": "display_data"
    }
   ],
   "source": [
    "plt.figure(1)\n",
    "df_speech_len = df.segmented.str.split(\"\\W+\").apply(len)\n",
    "df_speech_len.hist(bins=100)\n",
    "plt.title(\"Speech Length Statistics\")\n",
    "print(df_speech_len.describe())"
   ]
  },
  {
   "cell_type": "code",
   "execution_count": 57,
   "metadata": {},
   "outputs": [
    {
     "name": "stdout",
     "output_type": "stream",
     "text": [
      "The longest speech has 101 words\n"
     ]
    }
   ],
   "source": [
    "max_len = df.segmented.str.split(\"\\W+\").apply(len).agg(max)\n",
    "print('The longest speech has {} words'.format(max_len))"
   ]
  },
  {
   "cell_type": "markdown",
   "metadata": {},
   "source": [
    "### chinese stop words"
   ]
  },
  {
   "cell_type": "code",
   "execution_count": 86,
   "metadata": {},
   "outputs": [],
   "source": [
    "stop_ch = ['的', '了', '和', '而', '且', '1','2','3','4','5','6','7','8','9','10','11','12','一个','一','二','三','四','五','六','七','八','九','十','十一','十二']\n",
    "\n",
    "# stop_ch = ['的', '了', '和', '而', '且']"
   ]
  },
  {
   "cell_type": "markdown",
   "metadata": {},
   "source": [
    "## hot words for each intent\n",
    "\n",
    "### 1. just count"
   ]
  },
  {
   "cell_type": "code",
   "execution_count": 87,
   "metadata": {
    "collapsed": true
   },
   "outputs": [
    {
     "name": "stdout",
     "output_type": "stream",
     "text": [
      "intent : attack\n",
      "\n",
      "     term    weight\n",
      "1607   觉得  0.266209\n",
      "1709   这个  0.254364\n",
      "558    发言  0.193890\n",
      "772    就是  0.169576\n",
      "1844  预言家  0.155860\n",
      "652    因为  0.147756\n",
      "1201   查杀  0.138404\n",
      "31     一张  0.132170\n",
      "1294   然后  0.125312\n",
      "980    所以  0.119077\n",
      "578    可能  0.109102\n",
      "716    女巫  0.099751\n",
      "1684   身份  0.096633\n",
      "319    但是  0.092269\n",
      "1259   没有  0.088529\n",
      "326    你们  0.086658\n",
      "1373   的话  0.081671\n",
      "270    什么  0.078554\n",
      "728    如果  0.076683\n",
      "719    好人  0.068579\n",
      "143    不是  0.067955\n",
      "1624   认为  0.064838\n",
      "588    号牌  0.062968\n",
      "207   为什么  0.062344\n",
      "816    应该  0.062344\n",
      "274    今天  0.061721\n",
      "6      一下  0.057980\n",
      "66     一轮  0.056733\n",
      "27     一定  0.055486\n",
      "944    我们  0.052369\n",
      "\n",
      "intent : to_check\n",
      "\n",
      "    term    weight\n",
      "0     一下  0.567010\n",
      "226  警徽流  0.463918\n",
      "221   觉得  0.329897\n",
      "94    因为  0.216495\n",
      "238   这个  0.195876\n",
      "174   然后  0.185567\n",
      "145   所以  0.175258\n",
      "82    可以  0.164948\n",
      "224   警下  0.123711\n",
      "124   张牌  0.123711\n",
      "55    先验  0.123711\n",
      "64    再验  0.103093\n",
      "78    发言  0.103093\n",
      "3     一张  0.103093\n",
      "143   我验  0.092784\n",
      "116   就是  0.092784\n",
      "220   要验  0.092784\n",
      "264  预言家  0.092784\n",
      "234   身份  0.082474\n",
      "180   玩家  0.082474\n",
      "32    今天  0.082474\n",
      "187   的话  0.072165\n",
      "38    但是  0.072165\n",
      "84    号牌  0.072165\n",
      "5     一轮  0.072165\n",
      "171   没有  0.061856\n",
      "76    去验  0.061856\n",
      "40    你们  0.061856\n",
      "223   警上  0.061856\n",
      "51    先查  0.061856\n",
      "\n",
      "intent : ph\n",
      "\n",
      "     term    weight\n",
      "1736   这个  0.212121\n",
      "647    因为  0.199017\n",
      "1616   觉得  0.188370\n",
      "543    发言  0.160524\n",
      "770    就是  0.153972\n",
      "1872  预言家  0.146601\n",
      "729    如果  0.131040\n",
      "711    女巫  0.117117\n",
      "714    好人  0.115479\n",
      "1295   然后  0.115479\n",
      "573    可能  0.112203\n",
      "33     一张  0.098280\n",
      "313    你们  0.098280\n",
      "1261   没有  0.095004\n",
      "1379   的话  0.091728\n",
      "950    我们  0.090909\n",
      "980    所以  0.086814\n",
      "1123   时候  0.081081\n",
      "30     一定  0.077805\n",
      "1197   查杀  0.076986\n",
      "197   为什么  0.073710\n",
      "254    什么  0.067158\n",
      "6      一下  0.065520\n",
      "1554   自己  0.063882\n",
      "1712   身份  0.063063\n",
      "568    可以  0.058968\n",
      "1624   警上  0.057330\n",
      "301    但是  0.054054\n",
      "1343   现在  0.052416\n",
      "440    出来  0.050778\n",
      "\n",
      "intent : none\n",
      "\n",
      "    term    weight\n",
      "31    发言  0.242424\n",
      "116   退水  0.072727\n",
      "76    玩家  0.054545\n",
      "101   警左  0.036364\n",
      "111   这个  0.030303\n",
      "70    死左  0.024242\n",
      "86    禁言  0.024242\n",
      "100   警右  0.024242\n",
      "1     一下  0.024242\n",
      "30    反正  0.018182\n",
      "114   这轮  0.018182\n",
      "56    我过  0.018182\n",
      "120   那么  0.018182\n",
      "55    我们  0.012121\n",
      "69    死右  0.012121\n",
      "85    知道  0.012121\n",
      "68    欣赏  0.012121\n",
      "72   没关系  0.012121\n",
      "71    比较  0.012121\n",
      "74    然后  0.012121\n",
      "37    大家  0.012121\n",
      "38   好不好  0.012121\n",
      "104   警长  0.012121\n",
      "33    右手  0.012121\n",
      "45    已经  0.012121\n",
      "21    之后  0.012121\n",
      "107   身份  0.012121\n",
      "48    开始  0.012121\n",
      "40    好好  0.012121\n",
      "110   还是  0.012121\n",
      "\n",
      "intent : protect\n",
      "\n",
      "     term    weight\n",
      "966    觉得  0.421409\n",
      "424    好人  0.258808\n",
      "323    发言  0.191057\n",
      "1140  预言家  0.185637\n",
      "1052   这个  0.184282\n",
      "26     一张  0.182927\n",
      "389    因为  0.170732\n",
      "1031   身份  0.153117\n",
      "456    就是  0.127371\n",
      "336    可能  0.124661\n",
      "780    然后  0.115176\n",
      "593    所以  0.113821\n",
      "423    女巫  0.105691\n",
      "180    但是  0.098916\n",
      "43     一轮  0.092141\n",
      "492    应该  0.084011\n",
      "758    没有  0.078591\n",
      "23     一定  0.073171\n",
      "979    认为  0.070461\n",
      "823    的话  0.066396\n",
      "428    如果  0.065041\n",
      "820    白痴  0.062331\n",
      "334    可以  0.062331\n",
      "186    你们  0.060976\n",
      "802    玩家  0.058266\n",
      "1092   那个  0.056911\n",
      "853    真的  0.055556\n",
      "243    其实  0.052846\n",
      "346    号牌  0.051491\n",
      "1107   金水  0.051491\n",
      "\n",
      "intent : defense\n",
      "\n",
      "     term    weight\n",
      "1071   这个  0.210440\n",
      "1150  预言家  0.208809\n",
      "434    好人  0.169657\n",
      "23     一张  0.168026\n",
      "315    发言  0.164763\n",
      "179    你们  0.164763\n",
      "384    因为  0.140294\n",
      "467    就是  0.138662\n",
      "1055   身份  0.130506\n",
      "988    觉得  0.130506\n",
      "788    没有  0.110930\n",
      "6      一下  0.096248\n",
      "431    女巫  0.094617\n",
      "333    可能  0.088091\n",
      "438    如果  0.081566\n",
      "119   为什么  0.078303\n",
      "754    查杀  0.076672\n",
      "871    真的  0.075041\n",
      "810    然后  0.075041\n",
      "631    所以  0.073409\n",
      "172    但是  0.073409\n",
      "949    自己  0.073409\n",
      "877    知道  0.065253\n",
      "828    玩家  0.063622\n",
      "832    现在  0.060359\n",
      "995    警徽  0.060359\n",
      "328    可以  0.058728\n",
      "146    什么  0.057096\n",
      "44     一轮  0.050571\n",
      "850    白痴  0.050571\n",
      "\n",
      "intent : hang_on\n",
      "\n",
      "    term    weight\n",
      "183   发言  0.343348\n",
      "520   觉得  0.313305\n",
      "192   可能  0.223176\n",
      "564   这个  0.206009\n",
      "555   身份  0.180258\n",
      "214   因为  0.175966\n",
      "255   就是  0.163090\n",
      "425   然后  0.141631\n",
      "239   如果  0.141631\n",
      "452   的话  0.133047\n",
      "317   所以  0.128755\n",
      "117   但是  0.124464\n",
      "4     一下  0.107296\n",
      "470   知道  0.098712\n",
      "619  预言家  0.098712\n",
      "443   现在  0.094421\n",
      "414   没有  0.094421\n",
      "150   其实  0.072961\n",
      "15    一张  0.072961\n",
      "233   女巫  0.072961\n",
      "235   好人  0.064378\n",
      "102   什么  0.064378\n",
      "120   你们  0.060086\n",
      "58    不是  0.060086\n",
      "196   号牌  0.060086\n",
      "364   时候  0.055794\n",
      "272   张牌  0.055794\n",
      "28    一轮  0.055794\n",
      "559   还是  0.055794\n",
      "52    不好  0.051502\n",
      "\n",
      "intent : self_attack\n",
      "\n",
      "    term    weight\n",
      "4     一张  0.246575\n",
      "92    就是  0.219178\n",
      "41    你们  0.219178\n",
      "216   觉得  0.191781\n",
      "256  预言家  0.191781\n",
      "234   这个  0.178082\n",
      "124   我们  0.150685\n",
      "64    发言  0.136986\n",
      "211   自爆  0.136986\n",
      "85    好人  0.123288\n",
      "38    但是  0.123288\n",
      "88    如果  0.109589\n",
      "83    女巫  0.109589\n",
      "75    因为  0.109589\n",
      "174   玩家  0.109589\n",
      "65    可以  0.095890\n",
      "33    什么  0.095890\n",
      "168   然后  0.095890\n",
      "170  狼人牌  0.082192\n",
      "54    出局  0.082192\n",
      "177   现在  0.082192\n",
      "171   狼牌  0.082192\n",
      "66    可能  0.068493\n",
      "20    不是  0.068493\n",
      "1     一下  0.068493\n",
      "129   所以  0.068493\n",
      "192   确实  0.068493\n",
      "182  白狼王  0.068493\n",
      "30    交牌  0.068493\n",
      "106   张牌  0.054795\n",
      "\n"
     ]
    }
   ],
   "source": [
    "import numpy as np\n",
    "from sklearn.feature_extraction.text import CountVectorizer\n",
    "\n",
    "vectorizer_count = CountVectorizer(max_features=100000,stop_words=stop_ch,ngram_range=(1,1))\n",
    "\n",
    "intents = set(list(df.intent))\n",
    "for it in intents:\n",
    "    print(\"intent :\",it)\n",
    "    print()\n",
    "    X = vectorizer_count.fit_transform(df.segmented[df.intent==it])\n",
    "    weights = np.asarray(X.mean(axis=0)).ravel().tolist()\n",
    "    weights_df = pd.DataFrame({'term': vectorizer_count.get_feature_names(), 'weight': weights})\n",
    "    print(weights_df.sort_values(by='weight', ascending=False).head(30))\n",
    "    print()"
   ]
  },
  {
   "cell_type": "markdown",
   "metadata": {},
   "source": [
    "### 2. with tf-idf"
   ]
  },
  {
   "cell_type": "code",
   "execution_count": 88,
   "metadata": {
    "collapsed": true
   },
   "outputs": [
    {
     "name": "stdout",
     "output_type": "stream",
     "text": [
      "intent : attack\n",
      "\n",
      "     term    weight\n",
      "1607   觉得  0.045735\n",
      "1709   这个  0.041821\n",
      "1201   查杀  0.036618\n",
      "558    发言  0.036523\n",
      "772    就是  0.031089\n",
      "1844  预言家  0.030773\n",
      "31     一张  0.028633\n",
      "652    因为  0.028144\n",
      "980    所以  0.025931\n",
      "1294   然后  0.025773\n",
      "578    可能  0.024873\n",
      "1684   身份  0.021532\n",
      "716    女巫  0.021257\n",
      "326    你们  0.020859\n",
      "319    但是  0.020062\n",
      "1373   的话  0.019126\n",
      "1259   没有  0.018786\n",
      "274    今天  0.018509\n",
      "270    什么  0.018318\n",
      "728    如果  0.017801\n",
      "143    不是  0.017508\n",
      "1624   认为  0.017215\n",
      "588    号牌  0.016551\n",
      "816    应该  0.016039\n",
      "66     一轮  0.015181\n",
      "207   为什么  0.015176\n",
      "719    好人  0.014577\n",
      "27     一定  0.014475\n",
      "6      一下  0.013802\n",
      "1339   现在  0.013738\n",
      "\n",
      "intent : to_check\n",
      "\n",
      "    term    weight\n",
      "226  警徽流  0.107362\n",
      "0     一下  0.104117\n",
      "221   觉得  0.072690\n",
      "174   然后  0.055657\n",
      "82    可以  0.052966\n",
      "238   这个  0.043866\n",
      "145   所以  0.043036\n",
      "55    先验  0.042188\n",
      "94    因为  0.038886\n",
      "224   警下  0.035969\n",
      "64    再验  0.035913\n",
      "143   我验  0.032289\n",
      "264  预言家  0.032117\n",
      "124   张牌  0.031665\n",
      "3     一张  0.031161\n",
      "116   就是  0.029357\n",
      "5     一轮  0.027163\n",
      "78    发言  0.025799\n",
      "187   的话  0.024733\n",
      "234   身份  0.024522\n",
      "84    号牌  0.024480\n",
      "180   玩家  0.024200\n",
      "220   要验  0.023335\n",
      "76    去验  0.022958\n",
      "51    先查  0.022785\n",
      "223   警上  0.022531\n",
      "61    再查  0.022507\n",
      "32    今天  0.021056\n",
      "109   如果  0.019930\n",
      "6     七九  0.018895\n",
      "\n",
      "intent : ph\n",
      "\n",
      "     term    weight\n",
      "1736   这个  0.034635\n",
      "1616   觉得  0.034457\n",
      "647    因为  0.033816\n",
      "543    发言  0.030505\n",
      "770    就是  0.027736\n",
      "1872  预言家  0.027565\n",
      "729    如果  0.026684\n",
      "1295   然后  0.026091\n",
      "711    女巫  0.025670\n",
      "714    好人  0.025176\n",
      "573    可能  0.023364\n",
      "33     一张  0.020889\n",
      "1261   没有  0.020445\n",
      "1379   的话  0.020306\n",
      "313    你们  0.020272\n",
      "950    我们  0.019275\n",
      "1197   查杀  0.018814\n",
      "30     一定  0.018585\n",
      "980    所以  0.018314\n",
      "197   为什么  0.017706\n",
      "1123   时候  0.016692\n",
      "254    什么  0.016619\n",
      "6      一下  0.016487\n",
      "1554   自己  0.015362\n",
      "1712   身份  0.015147\n",
      "1624   警上  0.014994\n",
      "1343   现在  0.014235\n",
      "568    可以  0.013996\n",
      "1371   白痴  0.013813\n",
      "440    出来  0.012414\n",
      "\n",
      "intent : none\n",
      "\n",
      "    term    weight\n",
      "31    发言  0.150948\n",
      "116   退水  0.068940\n",
      "101   警左  0.033355\n",
      "76    玩家  0.028510\n",
      "100   警右  0.024242\n",
      "86    禁言  0.024242\n",
      "70    死左  0.023519\n",
      "69    死右  0.012121\n",
      "56    我过  0.011922\n",
      "30    反正  0.011169\n",
      "92    结束  0.010913\n",
      "33    右手  0.010913\n",
      "48    开始  0.009081\n",
      "120   那么  0.008632\n",
      "111   这个  0.008506\n",
      "85    知道  0.008378\n",
      "114   这轮  0.008209\n",
      "1     一下  0.007552\n",
      "45    已经  0.007320\n",
      "104   警长  0.006908\n",
      "74    然后  0.006590\n",
      "72   没关系  0.006061\n",
      "75    猎人  0.006061\n",
      "89    简单  0.006061\n",
      "0     ok  0.006061\n",
      "125   首先  0.006061\n",
      "40    好好  0.005930\n",
      "44    左边  0.005533\n",
      "18    两轮  0.005533\n",
      "41    完毕  0.005533\n",
      "\n",
      "intent : protect\n",
      "\n",
      "     term    weight\n",
      "966    觉得  0.066780\n",
      "424    好人  0.055694\n",
      "1140  预言家  0.043204\n",
      "26     一张  0.041315\n",
      "323    发言  0.037948\n",
      "1031   身份  0.036161\n",
      "1052   这个  0.035465\n",
      "389    因为  0.029579\n",
      "780    然后  0.028339\n",
      "456    就是  0.027839\n",
      "593    所以  0.027408\n",
      "336    可能  0.027394\n",
      "423    女巫  0.027031\n",
      "43     一轮  0.024591\n",
      "492    应该  0.023479\n",
      "180    但是  0.022821\n",
      "979    认为  0.020716\n",
      "1107   金水  0.020598\n",
      "23     一定  0.019167\n",
      "820    白痴  0.018900\n",
      "758    没有  0.017640\n",
      "823    的话  0.017547\n",
      "334    可以  0.017022\n",
      "877    站边  0.016692\n",
      "428    如果  0.015611\n",
      "186    你们  0.015041\n",
      "802    玩家  0.014664\n",
      "853    真的  0.014392\n",
      "1092   那个  0.014318\n",
      "346    号牌  0.013952\n",
      "\n",
      "intent : defense\n",
      "\n",
      "     term    weight\n",
      "1150  预言家  0.048972\n",
      "434    好人  0.047890\n",
      "23     一张  0.041330\n",
      "1071   这个  0.035830\n",
      "315    发言  0.033777\n",
      "1055   身份  0.032970\n",
      "179    你们  0.029989\n",
      "988    觉得  0.027215\n",
      "384    因为  0.026749\n",
      "431    女巫  0.026614\n",
      "467    就是  0.025060\n",
      "788    没有  0.023668\n",
      "6      一下  0.021476\n",
      "871    真的  0.021464\n",
      "754    查杀  0.020267\n",
      "333    可能  0.019116\n",
      "949    自己  0.018562\n",
      "850    白痴  0.018553\n",
      "119   为什么  0.018211\n",
      "438    如果  0.018098\n",
      "877    知道  0.018053\n",
      "631    所以  0.017985\n",
      "828    玩家  0.017674\n",
      "502    平民  0.017427\n",
      "810    然后  0.017001\n",
      "172    但是  0.016378\n",
      "995    警徽  0.015296\n",
      "832    现在  0.014979\n",
      "146    什么  0.014974\n",
      "503   平民牌  0.014592\n",
      "\n",
      "intent : hang_on\n",
      "\n",
      "    term    weight\n",
      "183   发言  0.062535\n",
      "520   觉得  0.053776\n",
      "192   可能  0.048275\n",
      "555   身份  0.037348\n",
      "564   这个  0.036407\n",
      "425   然后  0.035934\n",
      "239   如果  0.035492\n",
      "214   因为  0.033505\n",
      "452   的话  0.031964\n",
      "255   就是  0.031896\n",
      "470   知道  0.030106\n",
      "117   但是  0.028283\n",
      "317   所以  0.026306\n",
      "4     一下  0.025902\n",
      "443   现在  0.023898\n",
      "619  预言家  0.023212\n",
      "15    一张  0.021770\n",
      "414   没有  0.021460\n",
      "196   号牌  0.020722\n",
      "102   什么  0.019495\n",
      "235   好人  0.019131\n",
      "233   女巫  0.018540\n",
      "150   其实  0.018307\n",
      "52    不好  0.018230\n",
      "559   还是  0.016993\n",
      "28    一轮  0.015600\n",
      "58    不是  0.015528\n",
      "529   认为  0.015388\n",
      "120   你们  0.015312\n",
      "272   张牌  0.015268\n",
      "\n",
      "intent : self_attack\n",
      "\n",
      "    term    weight\n",
      "211   自爆  0.082484\n",
      "256  预言家  0.055462\n",
      "4     一张  0.048936\n",
      "41    你们  0.047792\n",
      "92    就是  0.044395\n",
      "216   觉得  0.040718\n",
      "64    发言  0.037537\n",
      "234   这个  0.037147\n",
      "124   我们  0.031449\n",
      "88    如果  0.028847\n",
      "75    因为  0.028454\n",
      "65    可以  0.027984\n",
      "38    但是  0.025666\n",
      "85    好人  0.025249\n",
      "168   然后  0.025159\n",
      "66    可能  0.024210\n",
      "169   爆爆  0.023722\n",
      "83    女巫  0.023484\n",
      "171   狼牌  0.023031\n",
      "9     一轮  0.021449\n",
      "129   所以  0.020534\n",
      "54    出局  0.020310\n",
      "199   算了  0.020206\n",
      "182  白狼王  0.019946\n",
      "174   玩家  0.019751\n",
      "33    什么  0.019273\n",
      "177   现在  0.019219\n",
      "30    交牌  0.018726\n",
      "170  狼人牌  0.017379\n",
      "192   确实  0.016469\n",
      "\n"
     ]
    }
   ],
   "source": [
    "from sklearn.feature_extraction.text import TfidfVectorizer\n",
    "\n",
    "vectorizer_idf = TfidfVectorizer(max_features=100000,stop_words=stop_ch,ngram_range=(1,1),use_idf=True)\n",
    "\n",
    "intents = set(list(df.intent))\n",
    "for it in intents:\n",
    "    print(\"intent :\",it)\n",
    "    print()\n",
    "    X = vectorizer_idf.fit_transform(df.segmented[df.intent==it])\n",
    "    weights = np.asarray(X.mean(axis=0)).ravel().tolist()\n",
    "    weights_df = pd.DataFrame({'term': vectorizer_idf.get_feature_names(), 'weight': weights})\n",
    "    print(weights_df.sort_values(by='weight', ascending=False).head(30))\n",
    "    print()"
   ]
  },
  {
   "cell_type": "markdown",
   "metadata": {},
   "source": [
    "# unsupervised clustering\n",
    "## 1. k-means with tf-idf"
   ]
  },
  {
   "cell_type": "code",
   "execution_count": 69,
   "metadata": {
    "collapsed": true
   },
   "outputs": [],
   "source": [
    "from sklearn.cluster import KMeans"
   ]
  },
  {
   "cell_type": "code",
   "execution_count": 89,
   "metadata": {},
   "outputs": [],
   "source": [
    "vectorizer_tfidf = TfidfVectorizer(min_df=.0025, max_df=.1, max_features=100000,stop_words=stop_ch,token_pattern='[\\u4e00-\\u9fff]+',analyzer='word', ngram_range=(1,1),use_idf=True)\n",
    "X_tfidf = vectorizer_tfidf.fit_transform(df.segmented)"
   ]
  },
  {
   "cell_type": "code",
   "execution_count": 90,
   "metadata": {},
   "outputs": [
    {
     "data": {
      "text/plain": [
       "(4744, 565)"
      ]
     },
     "execution_count": 90,
     "metadata": {},
     "output_type": "execute_result"
    }
   ],
   "source": [
    "X_tfidf.shape"
   ]
  },
  {
   "cell_type": "code",
   "execution_count": 124,
   "metadata": {
    "collapsed": true
   },
   "outputs": [
    {
     "name": "stdout",
     "output_type": "stream",
     "text": [
      "[0, 0, 5, 6, 0, 2, 5, 5, 0, 5, 5, 2, 0, 5, 2, 0, 0, 0, 6, 0, 7, 7, 5, 5, 0, 0, 0, 4, 0, 0, 1, 0, 0, 0, 0, 1, 7, 0, 0, 0, 0, 6, 0, 0, 7, 5, 0, 4, 0, 0, 5, 0, 2, 1, 0, 0, 0, 1, 4, 0, 7, 5, 0, 6, 0, 4, 6, 0, 1, 0, 3, 0, 0, 0, 0, 0, 0, 0, 3, 0, 4, 0, 4, 0, 0, 0, 0, 1, 5, 0, 0, 5, 0, 0, 1, 7, 0, 5, 0, 0, 1, 1, 4, 0, 4, 0, 0, 4, 0, 5, 0, 0, 0, 7, 1, 0, 7, 4, 4, 7, 4, 0, 0, 3, 0, 0, 0, 0, 0, 3, 0, 0, 0, 0, 0, 3, 4, 4, 0, 3, 3, 0, 0, 7, 0, 6, 0, 0, 0, 0, 4, 6, 0, 0, 0, 3, 0, 3, 7, 5, 4, 3, 0, 3, 5, 3, 0, 6, 6, 3, 4, 7, 0, 5, 5, 5, 0, 0, 0, 7, 6, 0, 0, 0, 4, 0, 0, 0, 0, 6, 0, 5, 0, 0, 0, 0, 6, 6, 6, 6, 0, 7, 6, 6, 0, 6, 6, 0, 7, 0, 6, 6, 6, 0, 0, 0, 6, 3, 0, 3, 0, 3, 6, 6, 0, 0, 4, 6, 0, 0, 0, 0, 6, 6, 6, 0, 0, 0, 0, 6, 6, 0, 4, 0, 3, 0, 0, 5, 0, 0, 0, 0, 4, 3, 6, 4, 4, 6, 0, 3, 0, 7, 0, 7, 5, 0, 0, 7, 6, 6, 6, 6, 0, 0, 0, 6, 0, 0, 0, 0, 0, 0, 0, 0, 0, 0, 5, 0, 4, 0, 0, 0, 3, 0, 6, 0, 0, 0, 0, 0, 0, 0, 0, 0, 0, 0, 6, 0, 0, 0, 0, 0, 0, 6, 0, 6, 5, 7, 0, 0, 3, 0, 0, 0, 0, 5, 6, 0, 0, 3, 0, 6, 0, 6, 0, 0, 7, 0, 4, 5, 5, 0, 6, 0, 0, 5, 0, 0, 5, 5, 4, 4, 3, 0, 0, 0, 3, 7, 0, 0, 0, 5, 0, 4, 0, 0, 4, 0, 0, 3, 0, 0, 6, 0, 0, 3, 4, 0, 0, 0, 0, 0, 6, 6, 0, 7, 0, 0, 5, 2, 5, 2, 0, 0, 0, 0, 0, 7, 4, 0, 0, 7, 7, 5, 5, 0, 7, 0, 0, 7, 5, 0, 0, 5, 3, 7, 0, 3, 0, 6, 0, 6, 5, 0, 7, 6, 0, 5, 0, 5, 7, 7, 0, 0, 3, 0, 0, 0, 2, 0, 7, 0, 7, 3, 0, 0, 7, 1, 7, 4, 2, 0, 0, 0, 0, 0, 6, 0, 5, 0, 0, 0, 1, 0, 6, 0, 7, 0, 0, 7, 0, 0, 0, 0, 0, 4, 0, 0, 0, 0, 0, 0, 1, 1, 0, 0, 6, 0, 0, 0, 0, 0, 6, 6, 5, 0, 0, 6, 0, 0, 0, 7, 0, 0, 3, 0, 6, 0, 0, 1, 6, 0, 0, 0, 3, 3, 3, 0, 7, 4, 0, 7, 0, 5, 0, 3, 0, 6, 6, 0, 1, 2, 6, 7, 6, 0, 7, 7, 1, 0, 0, 6, 4, 6, 4, 6, 5, 6, 4, 0, 1, 3, 0, 0, 2, 5, 0, 0, 5, 0, 3, 3, 5, 3, 3, 0, 4, 0, 4, 0, 0, 0, 0, 5, 3, 0, 0, 0, 6, 0, 5, 0, 0, 1, 7, 7, 0, 0, 0, 7, 0, 7, 0, 0, 6, 0, 0, 7, 0, 0, 4, 7, 0, 0, 0, 0, 3, 7, 0, 0, 6, 7, 0, 0, 6, 0, 6, 0, 0, 0, 0, 0, 5, 4, 4, 3, 3, 5, 0, 0, 0, 0, 4, 0, 3, 0, 0, 0, 4, 0, 0, 0, 0, 0, 4, 0, 0, 0, 0, 0, 0, 0, 0, 0, 1, 3, 0, 0, 0, 0, 0, 0, 0, 3, 0, 7, 0, 0, 4, 0, 0, 5, 0, 0, 0, 0, 0, 0, 6, 0, 0, 0, 4, 0, 4, 4, 3, 0, 0, 3, 5, 0, 7, 1, 4, 0, 3, 5, 0, 4, 0, 0, 0, 0, 0, 0, 3, 3, 5, 6, 6, 0, 6, 0, 0, 4, 0, 0, 0, 0, 5, 0, 5, 0, 0, 5, 5, 7, 0, 5, 3, 7, 0, 0, 0, 5, 5, 5, 4, 0, 3, 6, 0, 0, 0, 6, 6, 6, 3, 6, 7, 6, 0, 0, 0, 5, 0, 0, 0, 5, 0, 0, 0, 0, 1, 6, 7, 0, 5, 0, 0, 4, 0, 0, 4, 0, 6, 0, 0, 7, 4, 7, 0, 5, 1, 0, 7, 7, 0, 0, 1, 7, 0, 6, 0, 0, 0, 0, 6, 7, 0, 0, 7, 4, 0, 0, 0, 0, 0, 3, 0, 0, 5, 6, 0, 0, 5, 7, 0, 4, 5, 4, 0, 0, 3, 0, 3, 3, 0, 0, 0, 0, 3, 3, 0, 5, 0, 7, 7, 0, 3, 7, 0, 5, 3, 6, 7, 7, 0, 6, 6, 0, 0, 7, 2, 0, 0, 5, 2, 0, 0, 0, 0, 6, 5, 2, 0, 0, 5, 0, 5, 5, 0, 5, 4, 0, 0, 0, 0, 0, 5, 0, 4, 5, 4, 0, 0, 0, 0, 5, 5, 5, 0, 4, 0, 0, 5, 3, 0, 0, 5, 0, 0, 4, 5, 5, 3, 3, 0, 0, 0, 0, 1, 0, 0, 0, 0, 4, 1, 0, 0, 0, 4, 0, 0, 0, 6, 0, 6, 0, 3, 6, 0, 3, 6, 0, 3, 6, 0, 7, 7, 7, 7, 0, 7, 7, 6, 3, 1, 0, 7, 0, 0, 0, 0, 5, 0, 0, 5, 2, 0, 0, 6, 5, 7, 0, 0, 6, 5, 0, 7, 0, 0, 0, 1, 3, 3, 0, 0, 0, 3, 0, 7, 7, 0, 1, 0, 3, 0, 1, 0, 0, 7, 0, 7, 4, 4, 4, 4, 4, 0, 0, 0, 5, 0, 3, 5, 0, 6, 6, 6, 6, 6, 0, 0, 6, 0, 3, 0, 0, 7, 5, 6, 7, 3, 0, 0, 0, 0, 0, 0, 0, 0, 0, 0, 5, 7, 7, 0, 0, 6, 1, 6, 0, 3, 0, 0, 0, 0, 1, 0, 0, 1, 0, 0, 0, 0, 0, 5, 3, 3, 0, 0, 4, 6, 0, 6, 6, 0, 0, 5, 3, 0, 0, 0, 3, 0, 0, 0, 7, 2, 4, 0, 3, 5, 6, 6, 6, 7, 5, 6, 0, 6, 6, 6, 5, 0, 6, 7, 7, 0, 0, 3, 3, 7, 0, 5, 0, 0, 0, 0, 0, 0, 0, 6, 6, 6, 5, 0, 6, 1, 4, 0, 6, 0, 0, 4, 5, 0, 4, 0, 0, 0, 0, 5, 1, 5, 4, 0, 0, 0, 0, 0, 5, 0, 5, 0, 0, 0, 0, 0, 0, 0, 6, 0, 0, 0, 5, 6, 0, 0, 0, 6, 0, 0, 6, 0, 4, 7, 4, 4, 3, 0, 0, 7, 6, 5, 0, 6, 0, 0, 0, 0, 0, 1, 5, 0, 0, 0, 0, 0, 0, 3, 0, 0, 1, 0, 3, 0, 5, 0, 0, 7, 0, 0, 6, 0, 0, 0, 0, 5, 0, 5, 4, 4, 2, 0, 0, 0, 7, 0, 3, 0, 0, 0, 0, 7, 6, 5, 6, 0, 3, 0, 0, 0, 6, 7, 0, 0, 7, 0, 6, 6, 0, 6, 7, 7, 0, 7, 7, 0, 6, 0, 5, 0, 0, 7, 0, 5, 0, 0, 0, 0, 0, 7, 0, 3, 6, 3, 3, 4, 5, 3, 4, 0, 3, 4, 0, 0, 3, 1, 0, 0, 3, 1, 4, 0, 0, 2, 6, 0, 0, 0, 0, 5, 3, 6, 0, 0, 0, 0, 0, 0, 0, 0, 1, 3, 0, 0, 0, 0, 0, 0, 0, 0, 0, 1, 0, 4, 4, 0, 0, 3, 0, 3, 0, 0, 0, 0, 5, 0, 3, 3, 0, 0, 0, 4, 0, 0, 0, 0, 2, 0, 1, 5, 0, 0, 1, 0, 0, 0, 0, 0, 7, 1, 5, 0, 0, 0, 0, 0, 5, 0, 5, 7, 0, 0, 0, 0, 0, 0, 0, 0, 0, 0, 0, 0, 0, 6, 0, 6, 7, 5, 5, 5, 7, 0, 0, 0, 0, 6, 0, 5, 0, 0, 0, 3, 5, 5, 0, 0, 6, 3, 0, 0, 0, 6, 0, 5, 0, 0, 0, 0, 0, 0, 0, 0, 6, 1, 0, 5, 5, 0, 0, 1, 1, 1, 0, 5, 3, 1, 5, 1, 6, 3, 5, 0, 1, 0, 4, 0, 6, 0, 0, 0, 0, 6, 7, 0, 3, 0, 0, 6, 7, 0, 0, 0, 0, 0, 0, 0, 3, 1, 1, 7, 1, 6, 1, 7, 0, 0, 5, 0, 3, 0, 1, 0, 0, 0, 1, 0, 3, 0, 0, 0, 0, 6, 4, 0, 1, 2, 0, 0, 0, 1, 3, 3, 0, 0, 0, 5, 0, 3, 0, 0, 0, 0, 2, 0, 5, 0, 0, 0, 0, 0, 0, 0, 0, 2, 7, 0, 6, 0, 0, 0, 6, 6, 0, 0, 7, 0, 7, 0, 0, 0, 0, 0, 7, 7, 1, 1, 0, 3, 3, 0, 0, 0, 6, 0, 6, 6, 6, 0, 0, 6, 1, 1, 0, 0, 3, 0, 0, 6, 6, 0, 3, 1, 1, 1, 0, 1, 3, 7, 1, 0, 3, 0, 0, 0, 7, 6, 0, 0, 1, 6, 3, 3, 3, 0, 0, 7, 0, 0, 3, 0, 6, 0, 3, 0, 6, 0, 0, 0, 7, 0, 3, 0, 0, 0, 7, 7, 5, 3, 0, 3, 0, 0, 4, 0, 0, 0, 0, 0, 6, 6, 1, 1, 0, 0, 5, 6, 0, 1, 0, 0, 0, 0, 5, 1, 0, 0, 1, 6, 1, 1, 3, 3, 3, 3, 5, 3, 3, 0, 3, 0, 6, 0, 0, 3, 6, 5, 3, 3, 0, 1, 0, 0, 0, 3, 3, 0, 0, 4, 3, 0, 3, 0, 4, 0, 0, 3, 1, 5, 0, 4, 4, 4, 1, 0, 3, 0, 0, 0, 0, 0, 0, 0, 4, 6, 5, 0, 6, 7, 0, 1, 7, 0, 6, 6, 6, 0, 0, 3, 0, 0, 6, 5, 6, 0, 0, 0, 6, 0, 5, 3, 0, 0, 7, 0, 0, 0, 3, 3, 7, 0, 0, 3, 0, 3, 0, 0, 0, 0, 5, 1, 5, 0, 6, 3, 0, 7, 3, 0, 0, 3, 0, 3, 0, 7, 0, 0, 3, 3, 3, 0, 2, 0, 0, 5, 0, 0, 4, 0, 0, 7, 0, 0, 0, 7, 3, 0, 0, 0, 0, 0, 6, 0, 4, 0, 0, 5, 0, 1, 1, 0, 4, 4, 0, 1, 1, 3, 0, 0, 1, 3, 5, 6, 0, 0, 0, 0, 0, 0, 4, 0, 0, 0, 0, 0, 0, 0, 4, 6, 0, 0, 3, 4, 1, 1, 0, 6, 0, 6, 7, 0, 7, 0, 0, 0, 3, 0, 0, 0, 7, 7, 4, 0, 0, 0, 0, 6, 3, 0, 6, 5, 3, 6, 0, 6, 0, 0, 3, 3, 0, 3, 0, 0, 5, 6, 4, 0, 3, 3, 3, 0, 3, 0, 3, 2, 0, 0, 1, 3, 0, 5, 0, 4, 0, 0, 3, 0, 4, 0, 1, 3, 6, 0, 3, 0, 1, 1, 1, 6, 3, 1, 0, 0, 0, 5, 1, 1, 1, 1, 1, 1, 1, 1, 5, 1, 4, 1, 1, 1, 0, 0, 0, 0, 0, 0, 0, 3, 1, 3, 6, 0, 6, 5, 0, 0, 0, 0, 0, 0, 6, 0, 0, 0, 0, 0, 0, 4, 0, 4, 0, 0, 0, 2, 0, 0, 5, 6, 2, 1, 1, 0, 5, 0, 0, 5, 0, 5, 0, 0, 1, 3, 1, 1, 0, 0, 0, 1, 6, 3, 0, 0, 3, 5, 0, 0, 5, 0, 0, 0, 6, 1, 5, 0, 5, 1, 0, 1, 5, 0, 1, 5, 0, 0, 0, 5, 5, 1, 1, 1, 0, 5, 5, 0, 5, 0, 0, 5, 0, 0, 0, 1, 0, 0, 0, 0, 0, 1, 0, 1, 0, 6, 0, 0, 0, 0, 1, 0, 1, 1, 1, 1, 1, 1, 0, 0, 1, 1, 0, 0, 4, 2, 0, 3, 5, 7, 1, 0, 1, 0, 3, 0, 0, 0, 0, 0, 0, 3, 0, 0, 0, 0, 3, 1, 0, 3, 0, 3, 5, 0, 5, 3, 5, 0, 0, 5, 3, 0, 0, 0, 2, 0, 7, 0, 0, 0, 0, 5, 0, 1, 3, 3, 5, 3, 6, 3, 0, 0, 0, 5, 5, 1, 0, 5, 3, 6, 1, 0, 0, 1, 0, 1, 3, 0, 1, 0, 1, 3, 0, 6, 0, 1, 0, 6, 1, 0, 3, 7, 7, 1, 1, 0, 4, 1, 6, 7, 5, 0, 3, 0, 3, 0, 3, 7, 1, 0, 1, 3, 0, 3, 3, 0, 3, 0, 5, 0, 3, 7, 7, 0, 0, 0, 3, 0, 3, 0, 0, 6, 0, 1, 1, 0, 0, 3, 0, 6, 1, 0, 0, 5, 1, 0, 0, 0, 0, 3, 4, 0, 3, 0, 3, 3, 6, 0, 3, 3, 1, 1, 1, 0, 0, 0, 1, 1, 0, 0, 5, 3, 1, 3, 0, 1, 3, 6, 0, 0, 3, 0, 0, 6, 0, 3, 7, 4, 6, 0, 0, 3, 0, 0, 3, 4, 3, 4, 2, 0, 1, 0, 0, 1, 0, 0, 1, 1, 0, 1, 1, 1, 6, 3, 3, 1, 0, 4, 0, 7, 1, 6, 0, 0, 0, 0, 0, 6, 0, 0, 0, 1, 3, 0, 0, 1, 1, 0, 3, 0, 0, 1, 5, 5, 0, 0, 7, 3, 5, 2, 0, 3, 0, 0, 0, 0, 0, 0, 5, 0, 0, 5, 0, 0, 0, 0, 0, 0, 0, 0, 3, 0, 0, 7, 0, 0, 0, 0, 0, 0, 5, 5, 0, 0, 0, 0, 0, 0, 0, 5, 0, 3, 0, 0, 0, 5, 0, 0, 0, 0, 7, 5, 3, 0, 4, 0, 0, 0, 0, 3, 0, 0, 0, 0, 0, 0, 6, 0, 3, 0, 3, 3, 3, 0, 0, 6, 0, 0, 0, 0, 3, 0, 5, 0, 6, 6, 0, 3, 3, 0, 0, 0, 5, 7, 1, 3, 0, 0, 4, 1, 0, 3, 4, 0, 1, 0, 3, 3, 3, 0, 6, 0, 0, 1, 1, 6, 3, 0, 3, 6, 7, 0, 0, 6, 0, 0, 0, 0, 0, 0, 0, 0, 0, 6, 0, 1, 4, 1, 4, 1, 0, 0, 0, 0, 0, 0, 3, 0, 0, 0, 0, 3, 0, 1, 0, 0, 0, 0, 3, 6, 1, 3, 1, 1, 0, 1, 0, 0, 0, 0, 0, 0, 0, 0, 1, 0, 1, 0, 4, 0, 1, 0, 0, 0, 0, 0, 0, 3, 0, 0, 0, 0, 3, 3, 0, 0, 0, 5, 0, 3, 0, 0, 7, 5, 3, 7, 3, 5, 0, 0, 0, 1, 0, 4, 0, 4, 0, 0, 0, 0, 0, 0, 0, 0, 4, 4, 4, 4, 0, 0, 0, 4, 0, 6, 4, 0, 0, 0, 2, 0, 0, 0, 0, 3, 0, 0, 3, 1, 0, 0, 0, 3, 0, 6, 7, 1, 3, 0, 1, 0, 4, 0, 3, 3, 0, 0, 7, 0, 3, 0, 0, 0, 4, 0, 0, 0, 5, 4, 0, 0, 0, 0, 0, 0, 1, 0, 0, 5, 0, 5, 0, 5, 3, 0, 5, 0, 0, 0, 0, 0, 3, 0, 0, 0, 1, 0, 0, 0, 1, 3, 0, 1, 3, 0, 1, 0, 1, 4, 7, 3, 1, 0, 3, 0, 4, 1, 0, 5, 4, 0, 0, 6, 4, 0, 3, 6, 0, 0, 0, 0, 0, 0, 0, 0, 0, 0, 0, 3, 6, 0, 3, 0, 0, 0, 0, 0, 3, 0, 0, 7, 0, 0, 0, 1, 0, 0, 0, 1, 3, 0, 3, 3, 4, 0, 3, 7, 0, 0, 4, 4, 0, 0, 1, 0, 0, 0, 0, 3, 3, 5, 6, 0, 5, 3, 0, 6, 1, 0, 6, 0, 0, 1, 3, 3, 0, 3, 0, 0, 0, 3, 3, 0, 0, 0, 0, 0, 0, 0, 4, 5, 0, 4, 5, 4, 0, 0, 4, 0, 1, 0, 1, 4, 0, 0, 0, 0, 0, 0, 1, 0, 0, 1, 1, 0, 0, 5, 0, 6, 1, 5, 3, 1, 1, 0, 4, 0, 0, 0, 5, 6, 0, 0, 3, 0, 0, 4, 0, 0, 0, 0, 5, 0, 0, 0, 0, 5, 0, 4, 5, 0, 0, 4, 0, 0, 0, 0, 0, 0, 0, 0, 6, 6, 7, 7, 7, 0, 3, 0, 0, 5, 0, 0, 6, 6, 0, 0, 0, 0, 0, 6, 6, 0, 6, 7, 0, 6, 0, 7, 7, 0, 3, 5, 0, 0, 5, 0, 0, 7, 0, 6, 1, 4, 5, 5, 0, 0, 0, 0, 7, 0, 0, 3, 0, 5, 1, 3, 3, 0, 5, 5, 0, 7, 0, 5, 0, 0, 5, 2, 0, 5, 5, 6, 5, 0, 0, 3, 0, 7, 0, 0, 6, 3, 0, 6, 5, 6, 0, 6, 5, 0, 0, 0, 0, 0, 5, 0, 6, 0, 0, 1, 2, 0, 0, 3, 7, 7, 4, 0, 7, 3, 0, 0, 3, 1, 3, 3, 1, 0, 0, 0, 7, 1, 0, 1, 0, 3, 0, 5, 0, 0, 0, 3, 3, 0, 0, 0, 0, 5, 6, 3, 0, 0, 3, 0, 3, 3, 5, 0, 0, 0, 0, 0, 0, 0, 4, 3, 0, 0, 5, 4, 7, 4, 0, 0, 7, 0, 0, 3, 3, 5, 0, 3, 0, 3, 7, 5, 7, 5, 5, 5, 0, 3, 0, 3, 0, 0, 6, 3, 0, 0, 4, 4, 0, 1, 5, 0, 7, 0, 0, 0, 0, 0, 0, 5, 5, 3, 0, 3, 1, 5, 4, 0, 3, 3, 0, 0, 5, 0, 0, 4, 0, 1, 4, 0, 0, 0, 6, 0, 3, 0, 3, 3, 3, 3, 7, 5, 5, 0, 1, 0, 6, 0, 3, 0, 5, 0, 0, 5, 0, 0, 0, 0, 0, 0, 3, 0, 5, 5, 0, 7, 0, 7, 6, 7, 0, 0, 0, 0, 7, 0, 6, 3, 0, 0, 6, 3, 0, 0, 0, 0, 0, 7, 0, 5, 0, 1, 0, 3, 0, 0, 0, 7, 0, 0, 0, 3, 0, 0, 0, 3, 3, 0, 3, 0, 0, 1, 0, 0, 0, 0, 0, 0, 0, 3, 0, 0, 0, 3, 5, 0, 1, 7, 5, 1, 0, 0, 0, 0, 0, 3, 7, 3, 1, 7, 7, 0, 5, 3, 0, 3, 5, 0, 0, 0, 0, 5, 0, 5, 0, 5, 0, 5, 0, 5, 0, 3, 5, 5, 0, 0, 4, 0, 1, 0, 0, 1, 1, 0, 0, 0, 0, 0, 1, 0, 0, 0, 0, 0, 0, 1, 1, 4, 4, 0, 3, 0, 0, 0, 0, 4, 1, 4, 2, 1, 1, 3, 1, 0, 1, 1, 1, 1, 7, 0, 7, 1, 1, 0, 7, 1, 1, 1, 1, 4, 0, 1, 4, 1, 0, 1, 1, 1, 0, 0, 4, 1, 1, 1, 1, 1, 4, 0, 1, 0, 1, 2, 0, 0, 5, 5, 0, 7, 7, 0, 0, 0, 7, 3, 3, 0, 0, 4, 3, 3, 0, 0, 0, 3, 7, 0, 0, 3, 0, 0, 3, 0, 0, 0, 0, 0, 0, 0, 3, 3, 0, 7, 0, 3, 3, 0, 0, 0, 0, 4, 0, 0, 0, 0, 3, 4, 3, 3, 7, 3, 0, 0, 0, 0, 0, 1, 0, 0, 0, 0, 0, 0, 0, 0, 0, 3, 0, 5, 0, 0, 5, 0, 4, 0, 3, 6, 4, 0, 1, 3, 6, 0, 1, 5, 4, 0, 5, 4, 0, 3, 4, 4, 0, 0, 0, 0, 4, 0, 0, 3, 1, 3, 0, 7, 4, 0, 3, 0, 0, 1, 0, 4, 4, 7, 1, 0, 1, 5, 0, 1, 0, 1, 5, 0, 3, 0, 7, 0, 0, 0, 7, 5, 1, 0, 0, 4, 0, 0, 0, 2, 0, 0, 1, 5, 3, 0, 4, 0, 4, 0, 0, 0, 0, 0, 0, 5, 0, 0, 0, 0, 0, 7, 5, 0, 3, 7, 2, 0, 0, 0, 0, 0, 1, 0, 0, 0, 0, 7, 7, 0, 0, 5, 0, 0, 0, 0, 6, 0, 5, 6, 6, 0, 0, 6, 2, 0, 7, 3, 5, 0, 0, 2, 1, 3, 5, 0, 5, 7, 0, 7, 6, 7, 0, 5, 0, 7, 7, 0, 5, 0, 0, 0, 0, 6, 0, 0, 0, 0, 0, 0, 0, 7, 0, 0, 2, 7, 5, 1, 0, 5, 0, 4, 5, 5, 0, 0, 0, 0, 0, 0, 0, 7, 6, 0, 0, 0, 0, 0, 0, 5, 2, 5, 0, 0, 5, 2, 0, 3, 0, 5, 3, 3, 6, 0, 3, 6, 6, 5, 5, 0, 7, 7, 0, 0, 0, 0, 4, 2, 0, 0, 3, 0, 0, 0, 0, 0, 0, 0, 0, 5, 2, 0, 1, 0, 1, 0, 0, 0, 0, 0, 0, 3, 1, 2, 0, 3, 5, 0, 0, 0, 3, 5, 0, 0, 2, 0, 1, 1, 7, 1, 7, 1, 7, 1, 0, 5, 4, 0, 0, 0, 4, 0, 2, 7, 0, 0, 0, 0, 3, 0, 4, 2, 0, 1, 6, 0, 6, 3, 0, 7, 6, 6, 3, 0, 6, 0, 0, 0, 0, 6, 3, 5, 0, 0, 0, 0, 2, 0, 1, 1, 0, 0, 7, 3, 5, 0, 0, 0, 0, 0, 0, 0, 5, 0, 0, 0, 0, 0, 0, 0, 0, 2, 0, 3, 7, 7, 0, 0, 3, 3, 3, 0, 3, 3, 5, 3, 7, 0, 0, 2, 0, 0, 0, 0, 0, 7, 2, 0, 0, 4, 4, 0, 0, 1, 2, 0, 0, 7, 0, 0, 0, 7, 7, 0, 0, 3, 0, 0, 0, 0, 0, 5, 0, 0, 5, 2, 0, 6, 3, 0, 6, 3, 0, 0, 0, 3, 0, 0, 0, 6, 4, 3, 0, 4, 0, 7, 0, 0, 4, 4, 0, 0, 2, 0, 0, 0, 0, 7, 4, 7, 7, 0, 0, 4, 4, 0, 1, 7, 5, 0, 0, 4, 7, 2, 0, 0, 0, 0, 7, 0, 3, 7, 0, 0, 3, 5, 2, 6, 0, 0, 4, 0, 0, 0, 7, 7, 0, 0, 0, 0, 0, 2, 0, 0, 5, 0, 0, 5, 6, 3, 6, 0, 6, 0, 3, 3, 0, 3, 6, 6, 0, 0, 0, 0, 0, 0, 3, 0, 6, 0, 3, 3, 7, 3, 2, 0, 0, 5, 1, 0, 0, 0, 3, 3, 0, 3, 3, 5, 0, 5, 5, 0, 0, 5, 7, 0, 0, 0, 3, 5, 0, 0, 0, 5, 0, 3, 5, 4, 0, 0, 3, 0, 0, 5, 7, 0, 7, 3, 3, 0, 0, 5, 0, 0, 3, 0, 0, 0, 0, 0, 0, 0, 3, 5, 0, 3, 5, 0, 0, 3, 0, 0, 0, 0, 0, 0, 0, 0, 3, 0, 0, 0, 0, 2, 0, 0, 0, 0, 0, 0, 0, 7, 7, 6, 1, 0, 0, 0, 0, 5, 0, 5, 6, 6, 6, 5, 0, 2, 0, 5, 5, 0, 1, 0, 7, 2, 6, 0, 1, 0, 0, 6, 5, 0, 2, 0, 7, 6, 5, 0, 6, 5, 5, 4, 0, 0, 5, 2, 0, 0, 0, 0, 0, 0, 7, 0, 3, 0, 0, 0, 0, 0, 0, 0, 0, 0, 5, 0, 0, 0, 0, 0, 0, 0, 0, 6, 3, 0, 0, 3, 0, 0, 0, 0, 5, 5, 3, 0, 0, 0, 0, 0, 0, 1, 0, 0, 0, 2, 0, 0, 0, 0, 0, 3, 7, 3, 0, 0, 0, 0, 0, 0, 0, 6, 0, 5, 0, 3, 7, 7, 0, 0, 7, 1, 0, 0, 0, 0, 0, 5, 3, 3, 0, 7, 7, 0, 0, 0, 3, 0, 0, 0, 0, 0, 0, 6, 0, 6, 5, 0, 0, 5, 0, 3, 4, 3, 0, 6, 0, 0, 0, 2, 0, 3, 0, 7, 7, 5, 5, 0, 0, 2, 0, 5, 6, 0, 7, 0, 0, 0, 7, 5, 0, 4, 0, 0, 4, 0, 7, 0, 4, 7, 0, 0, 0, 6, 3, 7, 6, 5, 4, 0, 3, 0, 4, 0, 4, 7, 4, 4, 2, 0, 0, 0, 0, 4, 0, 0, 1, 5, 4, 0, 2, 0, 0, 0, 0, 0, 5, 0, 0, 5, 0, 0, 0, 0, 0, 0, 0, 5, 0, 0, 0, 0, 5, 0, 0, 0, 2, 0, 0, 0, 0, 5, 0, 5, 0, 5, 3, 1, 0, 0, 0, 0, 0, 0, 7, 0, 3, 0, 0, 7, 7, 0, 7, 0, 0, 0, 4, 0, 0, 0, 0, 0, 0, 2, 0, 0, 4, 0, 0, 4, 4, 0, 3, 0, 0, 0, 0, 0, 0, 0, 6, 7, 0, 0, 7, 2, 0, 0, 0, 7, 6, 0, 0, 0, 0, 0, 0, 0, 2, 7, 0, 0, 4, 0, 0, 0, 0, 0, 0, 0, 0, 0, 0, 0, 0, 0, 0, 0, 2, 0, 1, 6, 0, 6, 6, 0, 0, 0, 3, 5, 4, 0, 0, 3, 3, 4, 0, 0, 0, 0, 0, 4, 2, 3, 0, 7, 0, 0, 0, 0, 0, 0, 0, 0, 7, 0, 0, 0, 5, 7, 0, 0, 4, 0, 7, 7, 0, 5, 3, 0, 0, 0, 0, 3, 0, 0, 7, 0, 0, 7, 3, 2, 0, 4, 4, 5, 0, 0, 0, 7, 3, 6, 3, 0, 0, 0, 4, 6, 4, 0, 2, 0, 0, 7, 3, 0, 0, 0, 0, 0, 0, 0, 4, 5, 4, 0, 5, 5, 0, 2, 7, 0, 0, 7, 0, 0, 6, 0, 5, 5, 6, 3, 6, 7, 0, 0, 7, 5, 4, 0, 6, 5, 6, 0, 0, 7, 4, 3, 7, 0, 4, 0, 4, 0, 0, 0, 0, 5, 1, 0, 4, 0, 5, 0, 2, 6, 6, 0, 0, 6, 5, 0, 0, 2, 0, 0, 0, 0, 0, 0, 0, 0, 0, 5, 0, 0, 4, 2, 0, 0, 0, 6, 0, 0, 0, 6, 0, 3, 0, 0, 7, 0, 0, 5, 7, 0, 0, 5, 0, 2, 0, 0, 0, 7, 0, 5, 0, 3, 0, 0, 6, 5, 0, 0, 0, 0, 0, 3, 0, 0, 6, 0, 5, 0, 0, 0, 0, 3, 0, 5, 0, 7, 7, 5, 5, 3, 5, 0, 0, 2, 0, 3, 4, 5, 0, 5, 3, 3, 7, 0, 0, 0, 0, 2, 0, 0, 0, 1, 1, 3, 3, 0, 3, 5, 0, 0, 7, 0, 7, 0, 0, 0, 0, 0, 0, 6, 0, 1, 7, 0, 0, 0, 0, 2, 0, 0, 0, 0, 0, 7, 4, 6, 0, 0, 7, 7, 5, 0, 3, 7, 0, 3, 7, 4, 6, 0, 5, 6, 6, 0, 0, 5, 0, 7, 0, 0, 6, 0, 5, 5, 7, 2, 0, 0, 0, 5, 0, 0, 3, 0, 7, 0, 3, 0, 0, 5, 2, 0, 0, 3, 0, 4, 1, 2, 0, 7, 0, 7, 0, 7, 0, 0, 3, 5, 6, 0, 5, 4, 6, 0, 3, 3, 0, 5, 0, 0, 2, 0, 0, 0, 7, 0, 6, 0, 0, 6, 7, 0, 0, 7, 7, 0, 0, 7, 0, 3, 7, 0, 7, 0, 7, 7, 7, 5, 0, 0, 0, 2, 0, 3, 0, 7, 0, 0, 0, 7, 0, 0, 0, 0, 0, 0, 1, 0, 4, 0, 7, 5, 0, 0, 3, 2, 0, 6, 0, 5, 0, 0, 7, 7, 7, 3, 7, 0, 3, 5, 4, 0, 2, 0, 6, 6, 0, 0, 3, 5, 1, 0, 7, 7, 0, 5, 5, 4, 0, 0, 5, 0, 0, 7, 0, 0, 0, 3, 0, 0, 0, 0, 0, 7, 0, 0, 0, 0, 2, 0, 0, 4, 0, 0, 0, 7, 5, 0, 0, 0, 0, 6, 0, 0, 0, 1, 5, 7, 4, 0, 3, 0, 2, 0, 0, 0, 3, 0, 0, 0, 0, 1, 2, 0, 0, 6, 6, 0, 7, 0, 0, 4, 0, 0, 0, 0, 6, 0, 0, 5, 0, 0, 4]\n"
     ]
    }
   ],
   "source": [
    "terms_tfidf = vectorizer_tfidf.get_feature_names()\n",
    "true_k = 8\n",
    "model_k_tfidf = KMeans(n_clusters=true_k, init='k-means++', max_iter=100, n_init=1)\n",
    "model_k_tfidf.fit(X_tfidf)\n",
    "clusters_tfidf = model_k_tfidf.labels_.tolist()\n",
    "print(clusters_tfidf)"
   ]
  },
  {
   "cell_type": "code",
   "execution_count": 125,
   "metadata": {
    "collapsed": true
   },
   "outputs": [
    {
     "data": {
      "text/plain": [
       "cluster_tfidf  intent     \n",
       "0              attack         819\n",
       "               defense        355\n",
       "               hang_on        127\n",
       "               none            90\n",
       "               ph             687\n",
       "               protect        381\n",
       "               self_attack     52\n",
       "               to_check        38\n",
       "1              attack          88\n",
       "               defense         42\n",
       "               hang_on         13\n",
       "               ph              87\n",
       "               protect         74\n",
       "               self_attack      2\n",
       "               to_check         1\n",
       "2              attack          10\n",
       "               defense         11\n",
       "               none            66\n",
       "               ph               4\n",
       "               protect          3\n",
       "3              attack         168\n",
       "               defense         57\n",
       "               hang_on         19\n",
       "               none             3\n",
       "               ph             145\n",
       "               protect         73\n",
       "               self_attack      6\n",
       "               to_check         5\n",
       "4              attack         151\n",
       "               defense         16\n",
       "               hang_on          7\n",
       "               none             1\n",
       "               ph              48\n",
       "               protect         22\n",
       "               self_attack      3\n",
       "               to_check         1\n",
       "5              attack         131\n",
       "               defense         43\n",
       "               hang_on         20\n",
       "               none             2\n",
       "               ph              95\n",
       "               protect         58\n",
       "               self_attack      6\n",
       "               to_check        46\n",
       "6              attack         141\n",
       "               defense         25\n",
       "               hang_on         22\n",
       "               ph             100\n",
       "               protect         44\n",
       "               self_attack      4\n",
       "               to_check         2\n",
       "7              attack          96\n",
       "               defense         64\n",
       "               hang_on         25\n",
       "               none             3\n",
       "               ph              55\n",
       "               protect         83\n",
       "               to_check         4\n",
       "dtype: int64"
      ]
     },
     "execution_count": 125,
     "metadata": {},
     "output_type": "execute_result"
    }
   ],
   "source": [
    "# df.drop(['clusters'], axis=1)\n",
    "df['cluster_tfidf']=clusters_tfidf\n",
    "# df.groupby(['cluster_tfidf','intent']).count()\n",
    "df.groupby(['cluster_tfidf','intent']).size()"
   ]
  },
  {
   "cell_type": "code",
   "execution_count": 126,
   "metadata": {},
   "outputs": [
    {
     "data": {
      "text/plain": [
       "pandas.core.series.Series"
      ]
     },
     "execution_count": 126,
     "metadata": {},
     "output_type": "execute_result"
    }
   ],
   "source": [
    "type(df.groupby(['cluster_tfidf','intent']).size())"
   ]
  },
  {
   "cell_type": "markdown",
   "metadata": {},
   "source": [
    "### calculate entropy to each cluster\n",
    "\n",
    "the entropy will tell the quality of clustering, sort of. the bigger the entropy, the less good the clustering"
   ]
  },
  {
   "cell_type": "code",
   "execution_count": 127,
   "metadata": {},
   "outputs": [
    {
     "name": "stdout",
     "output_type": "stream",
     "text": [
      "0 1.68640247014\n",
      "1 1.51592519752\n",
      "2 0.982008333175\n",
      "3 1.53485540358\n",
      "4 1.20938677067\n",
      "5 1.71297525645\n",
      "6 1.44374764567\n",
      "7 1.61477159603\n",
      "11.7000726732\n"
     ]
    }
   ],
   "source": [
    "import scipy as sc\n",
    "\n",
    "# Input a pandas series \n",
    "def ent(data):\n",
    "    p_data= data.value_counts()/len(data) # calculates the probabilities\n",
    "    entropy=sc.stats.entropy(p_data)  # input probabilities to get the entropy \n",
    "    return entropy\n",
    "\n",
    "entropy = 0\n",
    "for cl in set(clusters_tfidf):\n",
    "    data = df['intent'][df.cluster_tfidf==cl]\n",
    "    entro= ent(data)\n",
    "    print(cl,entro)\n",
    "    entropy += entro\n",
    "    \n",
    "print(entropy)"
   ]
  },
  {
   "cell_type": "code",
   "execution_count": 128,
   "metadata": {},
   "outputs": [
    {
     "name": "stdout",
     "output_type": "stream",
     "text": [
      "0 ['有', '你们', '查杀', '可能', '女巫', '给', '跟', '如果', '一下', '好', '的话', '都', '把', '很', '人', '一轮', '但是', '玩家', '知道', '不是', '想', '要', '啊', '应该', '张', '真的', '听', '可以', '一定', '吗']\n",
      "1 ['个', '如果', '女巫', '可能', '一定', '查杀', '白痴', '真', '平民', '猎人', '给', '像', '吗', '认为', '但是', '有', '所以', '出局', '跟', '金水', '请', '不是', '投给', '的话', '都', '真的', '知道', '把', '现在', '没有']\n",
      "2 ['过', '查杀', '昨天晚上', '好', '结束', '白痴', '退水', '玩家', '先', '笑', '完', '那个', '呃', '张牌', '强势', '神牌', '为', '第一', '人', '虽然', '毒', '今天', '啊', '没', '告诉', '拿', '认', '一局', '确实', '真的']\n",
      "3 ['没有', '打', '去', '但是', '人', '可能', '站边', '都', '跟', '聊', '还', '有', '逻辑', '什么', '你们', '如果', '好', '情况', '给', '的话', '时候', '要', '我们', '女巫', '把', '现在', '这么', '位置', '问题', '这张']\n",
      "4 ['出', '今天', '这轮', '要', '一轮', '如果', '把', '可以', '查杀', '我们', '号牌', '都', '跟', '你们', '的话', '里面', '过', '肯定', '没有', '个', '结束', '谁', '全票', '所以', '好', '去', '应该', '一定', '女巫', '跟着']\n",
      "5 ['所以', '警徽流', '一下', '有', '给', '把', '查杀', '可能', '人', '认为', '报', '的话', '没有', '会', '投', '好', '留', '如果', '想', '再', '警徽', '跟', '一定', '要', '可以', '上', '现在', '都', '应该', '要验']\n",
      "6 ['呢', '为什么', '什么', '女巫', '有', '给', '上', '所以', '张牌', '查杀', '但是', '人', '可能', '谁', '怎么', '我们', '时候', '很', '跳', '都', '去', '一轮', '玩家', '一下', '要', '你们', '号牌', '跟', '警上', '真']\n",
      "7 ['身份', '好', '可能', '跳', '自己', '做好', '什么', '有', '的话', '所以', '女巫', '想', '一下', '现在', '人', '但是', '去', '诈', '你们', '其实', '都', '应该', '查杀', '给', '可以', '把', '不是', '个', '没有', '知道']\n"
     ]
    }
   ],
   "source": [
    "order_centroids_tfidf = model_k_tfidf.cluster_centers_.argsort()[:, ::-1]\n",
    "for i in range(true_k):\n",
    "    tops = []\n",
    "    for ind in order_centroids_tfidf[i, :30]:\n",
    "        tops.append(terms_tfidf[ind])\n",
    "    print(i, tops)"
   ]
  },
  {
   "cell_type": "markdown",
   "metadata": {},
   "source": [
    "## 2. k-means with word vector"
   ]
  },
  {
   "cell_type": "code",
   "execution_count": 130,
   "metadata": {},
   "outputs": [
    {
     "name": "stdout",
     "output_type": "stream",
     "text": [
      "['1 号 预言家', '昨天晚上 查杀 是 5 号牌']\n"
     ]
    }
   ],
   "source": [
    "from gensim.models import Word2Vec\n",
    "\n",
    "sentences = list(df.segmented)\n",
    "print(sentences[:2])\n",
    "model_vec = Word2Vec(sentences, size=100, window=5, min_count=1, workers=4)"
   ]
  },
  {
   "cell_type": "code",
   "execution_count": 131,
   "metadata": {
    "collapsed": true
   },
   "outputs": [],
   "source": [
    "word2vec_dict = {}\n",
    "words = model_vec.wv.index2word  # order from model.wv.syn0\n",
    "\n",
    "for i in words:\n",
    "    word2vec_dict[i] = model_vec[i]\n",
    "\n",
    "X_vec = np.array([word2vec_dict[i].T for i in words])"
   ]
  },
  {
   "cell_type": "code",
   "execution_count": 132,
   "metadata": {
    "collapsed": true
   },
   "outputs": [
    {
     "name": "stdout",
     "output_type": "stream",
     "text": [
      "[2, 7, 5, 0, 3, 0, 2, 3, 7, 6, 2, 7, 2, 2, 7, 3, 2, 0, 3, 2, 3, 0, 2, 6, 7, 7, 2, 4, 3, 3, 2, 3, 2, 2, 3, 3, 3, 1, 2, 3, 2, 1, 2, 2, 2, 6, 2, 4, 2, 3, 6, 1, 2, 2, 7, 3, 3, 7, 0, 2, 0, 6, 2, 3, 5, 4, 1, 1, 2, 5, 3, 1, 0, 7, 7, 2, 2, 7, 7, 5, 4, 7, 7, 1, 3, 3, 2, 5, 6, 3, 7, 6, 3, 3, 2, 2, 3, 7, 2, 3, 7, 7, 5, 3, 5, 7, 3, 4, 2, 2, 2, 7, 7, 7, 7, 7, 6, 4, 4, 2, 5, 2, 5, 5, 5, 0, 5, 5, 7, 0, 7, 7, 1, 1, 7, 3, 7, 7, 7, 2, 3, 7, 3, 0, 3, 0, 3, 2, 7, 3, 4, 3, 2, 2, 3, 3, 3, 3, 2, 6, 4, 5, 2, 3, 6, 0, 5, 1, 5, 7, 4, 7, 7, 6, 6, 6, 3, 0, 7, 0, 3, 2, 3, 3, 6, 2, 3, 0, 5, 5, 2, 7, 5, 0, 3, 2, 3, 3, 3, 0, 7, 0, 7, 7, 7, 7, 3, 2, 7, 7, 7, 7, 4, 3, 2, 3, 6, 7, 7, 7, 3, 7, 6, 3, 2, 3, 4, 6, 2, 2, 2, 2, 3, 3, 7, 1, 0, 2, 3, 3, 3, 3, 6, 7, 3, 3, 2, 6, 3, 2, 1, 1, 5, 1, 2, 1, 4, 3, 7, 3, 5, 7, 7, 7, 6, 5, 2, 0, 7, 2, 0, 3, 2, 3, 6, 3, 3, 1, 2, 7, 2, 2, 2, 3, 3, 3, 6, 1, 4, 7, 7, 7, 0, 3, 1, 3, 3, 7, 1, 3, 1, 1, 3, 2, 3, 3, 3, 2, 3, 3, 1, 1, 3, 3, 7, 3, 6, 3, 2, 2, 0, 1, 7, 3, 3, 6, 3, 7, 2, 7, 3, 3, 3, 3, 3, 3, 3, 5, 4, 3, 2, 1, 3, 7, 7, 7, 3, 2, 2, 6, 4, 4, 3, 2, 1, 7, 7, 7, 1, 2, 0, 6, 0, 4, 2, 3, 4, 0, 2, 3, 3, 2, 3, 2, 5, 3, 4, 2, 3, 3, 3, 3, 6, 3, 3, 2, 3, 7, 2, 2, 2, 0, 2, 3, 2, 3, 3, 3, 4, 3, 3, 0, 3, 5, 3, 3, 5, 2, 1, 3, 2, 5, 3, 2, 3, 5, 2, 3, 3, 2, 2, 2, 0, 3, 0, 3, 7, 3, 3, 6, 0, 5, 2, 2, 3, 0, 0, 0, 2, 2, 7, 3, 3, 3, 2, 2, 0, 7, 3, 4, 2, 7, 2, 7, 1, 0, 3, 7, 3, 3, 2, 1, 6, 3, 6, 2, 6, 1, 7, 2, 0, 1, 0, 3, 2, 3, 3, 2, 2, 3, 2, 7, 2, 7, 3, 3, 6, 2, 3, 3, 3, 2, 3, 1, 1, 7, 7, 7, 7, 2, 2, 1, 2, 7, 1, 2, 5, 5, 2, 5, 7, 5, 3, 2, 3, 3, 3, 3, 5, 4, 3, 3, 3, 6, 5, 3, 2, 3, 3, 3, 3, 2, 7, 0, 7, 2, 3, 3, 7, 3, 2, 7, 4, 7, 4, 3, 6, 3, 4, 5, 7, 3, 2, 3, 2, 1, 2, 3, 1, 5, 3, 2, 1, 3, 3, 7, 4, 5, 3, 2, 5, 5, 1, 5, 5, 3, 5, 2, 3, 2, 1, 3, 3, 7, 2, 0, 3, 5, 5, 5, 3, 6, 2, 3, 3, 3, 7, 6, 3, 3, 2, 0, 3, 2, 0, 7, 3, 6, 2, 2, 3, 2, 2, 2, 3, 2, 3, 3, 5, 2, 3, 7, 6, 0, 4, 6, 3, 6, 2, 0, 0, 1, 4, 0, 3, 0, 7, 7, 4, 2, 2, 2, 3, 2, 2, 2, 2, 2, 2, 3, 3, 2, 3, 3, 2, 3, 7, 7, 7, 1, 5, 3, 2, 3, 0, 3, 3, 7, 4, 0, 5, 6, 2, 2, 3, 2, 2, 1, 3, 2, 0, 0, 4, 5, 7, 0, 3, 7, 7, 5, 1, 2, 2, 2, 4, 2, 3, 6, 2, 4, 0, 3, 3, 2, 2, 3, 3, 3, 1, 3, 3, 1, 3, 7, 1, 4, 3, 2, 2, 7, 7, 2, 6, 5, 2, 6, 6, 3, 7, 6, 3, 7, 3, 5, 3, 6, 7, 6, 5, 3, 3, 3, 2, 1, 7, 2, 3, 3, 2, 6, 7, 3, 1, 2, 1, 6, 0, 3, 1, 6, 2, 7, 0, 3, 2, 6, 5, 3, 6, 5, 2, 4, 5, 7, 2, 3, 3, 2, 2, 0, 4, 0, 2, 6, 7, 3, 3, 2, 2, 3, 2, 7, 3, 3, 2, 1, 3, 3, 3, 3, 1, 3, 3, 1, 3, 2, 2, 5, 3, 3, 5, 2, 1, 3, 3, 3, 6, 0, 5, 4, 6, 5, 0, 2, 3, 2, 3, 3, 2, 2, 3, 7, 3, 3, 3, 6, 3, 0, 7, 1, 7, 0, 3, 6, 6, 3, 1, 2, 3, 1, 1, 0, 1, 0, 2, 3, 3, 6, 0, 3, 3, 2, 3, 7, 6, 2, 2, 2, 6, 7, 7, 2, 3, 6, 2, 2, 2, 2, 2, 2, 3, 5, 5, 2, 5, 2, 2, 1, 3, 3, 3, 6, 3, 4, 3, 3, 3, 0, 3, 0, 3, 5, 3, 3, 3, 1, 3, 2, 0, 2, 5, 3, 6, 3, 5, 2, 5, 1, 2, 2, 7, 3, 4, 7, 5, 0, 3, 2, 3, 3, 3, 3, 7, 3, 5, 0, 5, 1, 2, 3, 3, 2, 2, 7, 3, 0, 6, 3, 2, 3, 0, 2, 2, 3, 3, 6, 2, 3, 6, 2, 3, 0, 2, 0, 3, 1, 1, 0, 3, 1, 0, 5, 7, 3, 1, 3, 5, 2, 5, 5, 5, 2, 3, 5, 7, 7, 3, 3, 2, 5, 2, 2, 0, 1, 3, 4, 4, 6, 4, 3, 3, 2, 3, 6, 3, 3, 1, 3, 3, 6, 7, 3, 6, 3, 2, 7, 5, 3, 2, 1, 0, 6, 3, 0, 3, 3, 7, 7, 2, 3, 3, 7, 7, 7, 2, 6, 3, 3, 3, 3, 3, 6, 3, 3, 3, 7, 5, 2, 3, 7, 3, 0, 7, 5, 5, 3, 3, 3, 6, 3, 3, 3, 3, 4, 4, 2, 2, 3, 3, 3, 6, 5, 3, 3, 3, 3, 3, 0, 3, 0, 2, 4, 7, 7, 6, 3, 3, 3, 1, 6, 3, 2, 3, 1, 3, 2, 2, 1, 0, 0, 5, 3, 5, 3, 3, 3, 6, 2, 7, 3, 1, 7, 7, 4, 7, 7, 7, 6, 7, 3, 1, 3, 3, 3, 7, 3, 4, 5, 0, 4, 0, 2, 7, 7, 2, 2, 2, 5, 2, 2, 3, 7, 3, 2, 2, 1, 2, 2, 2, 3, 3, 2, 3, 7, 3, 3, 2, 6, 7, 2, 0, 2, 2, 7, 2, 0, 2, 0, 0, 0, 4, 3, 2, 0, 2, 3, 6, 1, 6, 2, 3, 3, 3, 3, 3, 6, 3, 2, 5, 3, 3, 3, 5, 5, 7, 7, 2, 3, 2, 6, 2, 5, 3, 3, 2, 3, 5, 3, 5, 5, 5, 5, 6, 4, 4, 0, 3, 3, 1, 0, 2, 3, 3, 2, 2, 5, 0, 3, 6, 3, 5, 3, 2, 3, 0, 3, 3, 2, 6, 6, 2, 3, 3, 2, 3, 1, 7, 2, 6, 6, 2, 3, 3, 6, 0, 3, 6, 2, 6, 2, 2, 6, 3, 2, 2, 2, 2, 3, 3, 3, 4, 6, 0, 4, 3, 3, 4, 7, 7, 7, 7, 3, 7, 7, 5, 4, 2, 2, 0, 7, 5, 3, 3, 2, 7, 3, 3, 2, 2, 2, 3, 3, 3, 2, 2, 7, 3, 5, 3, 2, 2, 2, 2, 7, 3, 7, 2, 5, 4, 4, 2, 3, 2, 3, 3, 2, 3, 3, 3, 3, 1, 3, 3, 2, 2, 2, 4, 3, 3, 3, 2, 2, 3, 6, 6, 3, 3, 3, 3, 3, 2, 3, 3, 3, 6, 6, 0, 3, 3, 0, 3, 6, 5, 5, 5, 5, 3, 3, 3, 2, 3, 2, 3, 3, 3, 0, 2, 0, 2, 2, 3, 6, 6, 6, 6, 3, 2, 2, 3, 3, 3, 5, 6, 3, 5, 7, 3, 6, 6, 2, 7, 3, 3, 3, 2, 7, 1, 7, 2, 2, 2, 2, 0, 7, 3, 7, 2, 3, 6, 2, 2, 6, 2, 7, 2, 2, 2, 2, 2, 5, 2, 6, 2, 3, 3, 6, 2, 2, 2, 2, 7, 1, 2, 3, 2, 2, 0, 3, 3, 5, 5, 7, 3, 2, 2, 3, 2, 1, 5, 5, 0, 2, 2, 5, 5, 2, 3, 2, 3, 2, 2, 6, 5, 3, 3, 2, 0, 2, 2, 2, 5, 3, 0, 2, 3, 3, 6, 0, 3, 3, 2, 2, 3, 0, 3, 3, 3, 3, 3, 3, 6, 3, 3, 3, 3, 2, 2, 2, 3, 6, 2, 2, 2, 2, 2, 3, 3, 2, 2, 2, 2, 1, 2, 2, 2, 6, 6, 2, 3, 2, 5, 3, 0, 2, 5, 0, 5, 0, 3, 2, 2, 3, 3, 3, 3, 2, 3, 3, 3, 3, 3, 3, 3, 3, 3, 2, 2, 3, 2, 0, 1, 7, 3, 3, 2, 3, 3, 2, 2, 2, 3, 3, 0, 3, 0, 2, 2, 7, 2, 6, 3, 3, 2, 5, 3, 3, 3, 3, 2, 2, 2, 2, 1, 3, 3, 2, 2, 3, 3, 3, 6, 2, 2, 0, 4, 5, 3, 3, 0, 4, 2, 6, 4, 2, 3, 2, 1, 6, 0, 4, 3, 4, 4, 7, 3, 1, 2, 2, 7, 6, 3, 0, 4, 3, 1, 7, 2, 6, 6, 3, 5, 2, 3, 2, 1, 0, 3, 3, 6, 6, 3, 3, 3, 3, 5, 3, 2, 3, 6, 3, 6, 3, 3, 7, 4, 3, 3, 3, 3, 3, 6, 3, 6, 0, 7, 3, 0, 4, 3, 2, 1, 7, 6, 0, 4, 4, 4, 2, 2, 3, 3, 5, 2, 0, 3, 2, 5, 4, 3, 6, 3, 7, 2, 2, 3, 3, 2, 6, 3, 3, 2, 3, 3, 3, 3, 3, 6, 3, 2, 0, 2, 3, 3, 6, 3, 2, 2, 3, 3, 3, 5, 5, 2, 7, 2, 5, 3, 2, 3, 2, 2, 1, 3, 6, 4, 6, 3, 3, 1, 3, 3, 0, 0, 3, 3, 2, 3, 5, 5, 3, 2, 3, 5, 5, 2, 2, 3, 3, 6, 3, 3, 4, 2, 5, 0, 3, 2, 2, 3, 3, 3, 2, 3, 3, 3, 1, 0, 4, 7, 0, 0, 2, 2, 2, 5, 4, 4, 3, 2, 4, 3, 2, 2, 1, 1, 6, 3, 3, 2, 3, 2, 3, 3, 6, 2, 5, 2, 2, 2, 3, 3, 4, 3, 2, 2, 3, 3, 2, 2, 3, 3, 3, 2, 3, 3, 4, 5, 3, 2, 3, 3, 2, 0, 3, 2, 4, 3, 2, 2, 3, 3, 3, 2, 3, 6, 3, 3, 3, 3, 5, 3, 3, 3, 5, 6, 3, 3, 6, 6, 5, 2, 3, 3, 3, 3, 3, 3, 3, 2, 2, 2, 2, 4, 5, 4, 2, 4, 3, 2, 3, 3, 4, 2, 3, 4, 5, 2, 3, 5, 5, 6, 2, 3, 1, 2, 2, 3, 2, 6, 6, 5, 5, 2, 5, 2, 4, 3, 6, 5, 3, 6, 2, 5, 5, 5, 2, 3, 2, 2, 2, 3, 5, 3, 3, 2, 3, 3, 2, 0, 0, 1, 2, 2, 1, 2, 2, 1, 0, 3, 3, 4, 0, 4, 5, 2, 0, 2, 2, 2, 2, 3, 2, 5, 5, 2, 6, 5, 2, 3, 2, 6, 2, 3, 2, 0, 2, 5, 2, 3, 2, 2, 3, 3, 3, 3, 1, 6, 2, 2, 6, 0, 2, 7, 3, 6, 6, 7, 6, 3, 1, 7, 6, 3, 7, 2, 7, 3, 3, 6, 6, 6, 7, 0, 3, 3, 6, 5, 6, 3, 2, 6, 2, 0, 3, 2, 2, 2, 2, 2, 3, 2, 0, 3, 0, 3, 1, 1, 3, 7, 6, 2, 5, 5, 3, 5, 5, 5, 3, 3, 2, 2, 3, 3, 3, 2, 2, 3, 1, 3, 2, 1, 1, 1, 3, 2, 3, 3, 3, 5, 3, 1, 3, 1, 3, 3, 3, 1, 3, 3, 3, 3, 6, 1, 6, 5, 6, 3, 2, 1, 3, 1, 2, 3, 2, 3, 2, 1, 3, 3, 1, 1, 3, 1, 1, 0, 6, 2, 1, 3, 2, 3, 0, 3, 2, 2, 2, 2, 3, 5, 5, 2, 3, 7, 2, 3, 3, 1, 3, 3, 2, 1, 1, 1, 3, 1, 3, 1, 2, 7, 3, 2, 3, 7, 5, 2, 4, 2, 3, 3, 3, 1, 1, 3, 2, 2, 3, 3, 2, 1, 5, 3, 1, 1, 3, 3, 5, 2, 3, 1, 2, 3, 3, 2, 2, 2, 0, 5, 3, 1, 3, 3, 2, 5, 5, 2, 3, 1, 2, 3, 3, 1, 3, 2, 3, 2, 1, 7, 3, 1, 1, 1, 4, 1, 3, 6, 6, 2, 5, 3, 2, 3, 3, 2, 3, 3, 5, 2, 2, 2, 2, 6, 0, 3, 2, 7, 2, 3, 7, 3, 0, 4, 4, 3, 7, 3, 4, 4, 7, 4, 0, 3, 1, 2, 3, 7, 5, 4, 4, 0, 3, 2, 3, 2, 2, 1, 2, 2, 2, 2, 3, 2, 3, 1, 3, 3, 3, 4, 2, 3, 2, 3, 2, 1, 1, 0, 2, 3, 3, 3, 2, 4, 3, 4, 4, 3, 5, 7, 3, 3, 3, 2, 6, 6, 5, 2, 0, 3, 1, 2, 4, 5, 2, 2, 7, 2, 3, 3, 6, 5, 3, 6, 3, 2, 2, 2, 3, 3, 1, 0, 5, 7, 3, 2, 2, 3, 1, 7, 3, 5, 2, 3, 0, 7, 3, 2, 2, 3, 2, 6, 5, 3, 3, 2, 2, 6, 3, 3, 2, 3, 3, 5, 3, 2, 4, 5, 1, 2, 2, 3, 7, 2, 3, 5, 2, 2, 3, 2, 3, 2, 3, 3, 3, 4, 4, 4, 4, 4, 7, 2, 3, 3, 6, 3, 1, 3, 3, 3, 3, 2, 2, 1, 6, 3, 2, 4, 3, 3, 4, 2, 2, 3, 4, 4, 2, 5, 3, 4, 4, 2, 4, 3, 3, 2, 1, 3, 1, 7, 3, 3, 2, 3, 7, 3, 4, 7, 2, 4, 5, 3, 2, 4, 5, 7, 4, 4, 4, 5, 4, 2, 5, 2, 2, 2, 5, 3, 5, 7, 2, 2, 2, 0, 0, 4, 3, 3, 3, 2, 3, 0, 4, 3, 7, 5, 2, 7, 2, 7, 2, 3, 2, 3, 2, 0, 2, 2, 4, 3, 4, 4, 3, 3, 2, 0, 3, 2, 3, 3, 3, 4, 4, 4, 3, 6, 3, 3, 2, 6, 3, 7, 7, 7, 2, 6, 3, 2, 3, 6, 2, 2, 2, 4, 2, 4, 4, 4, 3, 3, 2, 4, 3, 4, 4, 4, 4, 4, 4, 4, 2, 2, 4, 4, 3, 3, 4, 2, 2, 4, 2, 2, 3, 3, 2, 7, 4, 3, 3, 4, 4, 4, 2, 3, 0, 3, 2, 2, 2, 3, 7, 2, 4, 3, 1, 3, 3, 0, 3, 3, 3, 7, 4, 0, 4, 0, 3, 3, 6, 1, 2, 3, 3, 4, 0, 4, 6, 1, 3, 6, 2, 6, 1, 1, 3, 0, 6, 2, 2, 4, 0, 2, 3, 3, 7, 3, 4, 7, 2, 2, 6, 3, 1, 2, 1, 3, 1, 4, 4, 4, 3, 4, 4, 3, 3, 4, 4, 6, 4, 6, 4, 7, 3, 3, 4, 3, 3, 3, 4, 4, 4, 3, 2, 4, 4, 7, 4, 3, 2, 3, 3, 2, 3, 0, 3, 3, 1, 2, 3, 3, 7, 3, 3, 7, 3, 2, 5, 3, 5, 1, 3, 7, 4, 4, 4, 7, 3, 7, 2, 4, 4, 4, 0, 2, 2, 2, 2, 1, 2, 3, 0, 2, 7, 7, 6, 3, 2, 7, 1, 3, 3, 2, 3, 7, 3, 1, 3, 3, 2, 5, 7, 3, 3, 3, 3, 3, 2, 7, 2, 1, 4, 6, 3, 4, 2, 4, 3, 1, 4, 2, 2, 1, 2, 4, 3, 3, 0, 4, 4, 3, 4, 3, 3, 2, 5, 0, 3, 6, 3, 4, 7, 4, 4, 2, 6, 4, 4, 2, 2, 2, 6, 4, 0, 3, 4, 4, 2, 4, 4, 3, 4, 2, 6, 2, 2, 2, 4, 6, 3, 4, 6, 4, 0, 6, 3, 3, 1, 2, 2, 2, 2, 2, 0, 3, 2, 2, 7, 2, 5, 2, 3, 6, 2, 3, 3, 3, 2, 3, 0, 1, 2, 3, 3, 3, 3, 6, 2, 5, 2, 3, 7, 3, 2, 7, 2, 2, 3, 2, 1, 7, 7, 3, 5, 2, 3, 2, 2, 3, 0, 7, 0, 2, 2, 3, 2, 6, 1, 3, 3, 7, 6, 6, 2, 3, 2, 0, 5, 5, 6, 2, 7, 1, 6, 3, 2, 7, 3, 3, 7, 6, 2, 2, 7, 3, 2, 6, 2, 1, 7, 7, 2, 2, 3, 5, 2, 5, 2, 2, 6, 5, 0, 2, 2, 1, 2, 3, 7, 3, 4, 3, 3, 7, 0, 3, 1, 5, 3, 2, 1, 0, 3, 0, 7, 7, 5, 6, 1, 7, 7, 6, 2, 2, 1, 7, 1, 1, 3, 2, 2, 0, 1, 7, 5, 1, 1, 3, 3, 3, 6, 2, 3, 3, 2, 2, 5, 2, 4, 3, 1, 5, 6, 4, 5, 4, 3, 2, 0, 5, 1, 3, 3, 6, 3, 6, 3, 3, 2, 6, 3, 6, 6, 6, 7, 7, 7, 3, 2, 3, 3, 6, 3, 5, 4, 4, 7, 7, 6, 1, 1, 3, 7, 1, 1, 3, 7, 6, 6, 5, 3, 3, 1, 6, 4, 5, 7, 3, 7, 7, 1, 2, 3, 2, 2, 2, 4, 2, 0, 3, 1, 2, 3, 3, 3, 0, 3, 7, 3, 6, 1, 2, 2, 2, 5, 1, 7, 2, 6, 3, 3, 6, 1, 3, 3, 5, 3, 2, 3, 2, 6, 6, 3, 2, 3, 2, 3, 6, 2, 2, 7, 2, 5, 5, 3, 5, 2, 2, 3, 7, 3, 3, 3, 2, 0, 2, 3, 1, 5, 7, 7, 5, 2, 2, 2, 3, 2, 2, 2, 3, 2, 2, 2, 5, 3, 5, 3, 2, 0, 1, 4, 5, 3, 3, 0, 3, 3, 3, 2, 3, 3, 4, 6, 3, 7, 0, 5, 2, 5, 0, 2, 4, 3, 7, 7, 3, 7, 7, 7, 7, 4, 3, 2, 3, 6, 7, 2, 2, 2, 1, 5, 6, 7, 6, 3, 4, 2, 0, 2, 1, 6, 4, 5, 5, 4, 2, 3, 4, 1, 2, 5, 3, 7, 1, 5, 5, 3, 2, 3, 2, 3, 3, 3, 4, 4, 4, 4, 2, 3, 4, 4, 2, 4, 4, 2, 4, 2, 7, 7, 3, 7, 7, 7, 5, 6, 7, 7, 7, 6, 2, 5, 3, 0, 6, 4, 7, 3, 4, 2, 5, 4, 5, 3, 2, 6, 7, 2, 3, 4, 5, 5, 0, 3, 4, 4, 0, 2, 5, 5, 2, 2, 7, 6, 1, 1, 1, 1, 1, 3, 3, 6, 3, 3, 2, 7, 1, 3, 5, 2, 7, 7, 7, 3, 7, 7, 3, 2, 7, 3, 7, 2, 0, 2, 7, 3, 5, 3, 3, 7, 0, 2, 3, 5, 1, 2, 2, 7, 7, 7, 5, 2, 3, 3, 0, 3, 3, 3, 3, 2, 3, 2, 3, 3, 2, 3, 2, 3, 2, 3, 3, 7, 3, 3, 0, 2, 2, 3, 3, 2, 3, 7, 3, 7, 7, 4, 3, 2, 0, 7, 3, 4, 2, 4, 5, 6, 4, 3, 5, 7, 4, 2, 2, 2, 5, 4, 2, 3, 3, 2, 0, 3, 5, 4, 2, 3, 2, 2, 7, 0, 4, 4, 7, 7, 7, 6, 6, 2, 7, 2, 5, 6, 2, 3, 2, 0, 0, 3, 2, 3, 6, 7, 4, 3, 4, 1, 3, 5, 4, 3, 3, 1, 2, 2, 2, 4, 2, 4, 2, 2, 0, 2, 2, 3, 6, 2, 2, 2, 3, 1, 0, 2, 2, 3, 3, 2, 2, 2, 3, 3, 5, 7, 2, 2, 2, 2, 2, 3, 3, 7, 2, 7, 3, 7, 2, 3, 1, 6, 7, 3, 2, 2, 5, 2, 2, 0, 1, 3, 1, 2, 2, 2, 3, 6, 2, 2, 6, 3, 3, 7, 0, 3, 6, 2, 4, 6, 2, 5, 2, 2, 2, 2, 3, 3, 2, 5, 5, 5, 0, 5, 5, 2, 2, 2, 7, 6, 2, 7, 6, 3, 4, 3, 6, 2, 2, 5, 2, 2, 2, 3, 7, 7, 3, 0, 7, 7, 3, 3, 7, 2, 6, 7, 3, 6, 2, 2, 3, 2, 6, 3, 3, 1, 3, 1, 7, 3, 6, 6, 1, 6, 0, 1, 1, 1, 3, 4, 2, 2, 1, 1, 5, 1, 3, 3, 3, 1, 1, 5, 1, 2, 2, 0, 3, 2, 2, 2, 3, 3, 3, 2, 3, 2, 2, 2, 3, 6, 2, 1, 3, 3, 6, 3, 2, 2, 2, 2, 5, 5, 0, 5, 1, 3, 3, 3, 6, 4, 2, 0, 2, 4, 0, 2, 2, 3, 3, 0, 3, 3, 0, 0, 2, 2, 6, 3, 2, 3, 2, 3, 2, 6, 3, 3, 3, 3, 2, 2, 2, 2, 3, 3, 6, 2, 2, 3, 2, 2, 3, 3, 2, 3, 2, 3, 3, 6, 3, 3, 1, 3, 3, 2, 2, 6, 3, 1, 3, 3, 2, 2, 2, 2, 2, 1, 2, 3, 2, 3, 3, 3, 3, 2, 5, 3, 3, 6, 2, 2, 2, 1, 2, 2, 3, 2, 2, 3, 0, 2, 3, 2, 3, 4, 2, 2, 2, 2, 2, 3, 3, 2, 3, 1, 7, 3, 3, 3, 5, 3, 3, 3, 2, 1, 6, 2, 2, 2, 2, 2, 3, 3, 3, 3, 3, 3, 3, 2, 5, 2, 1, 2, 3, 4, 3, 5, 3, 3, 0, 2, 3, 4, 4, 2, 2, 2, 2, 3, 3, 2, 5, 3, 3, 3, 1, 3, 4, 2, 3, 3, 3, 6, 2, 3, 5, 0, 2, 2, 3, 3, 3, 4, 2, 3, 6, 6, 3, 5, 6, 2, 3, 3, 3, 4, 7, 2, 3, 0, 3, 3, 3, 3, 7, 2, 2, 2, 5, 0, 3, 5, 6, 3, 3, 3, 2, 6, 2, 6, 6, 1, 3, 3, 3, 3, 3, 1, 7, 2, 2, 0, 5, 6, 3, 3, 3, 0, 3, 2, 2, 2, 6, 2, 5, 5, 5, 3, 5, 3, 3, 3, 6, 2, 1, 6, 7, 2, 6, 7, 2, 3, 1, 3, 1, 2, 3, 2, 6, 3, 3, 6, 6, 2, 5, 3, 5, 3, 6, 3, 2, 0, 3, 3, 0, 5, 2, 3, 7, 3, 3, 3, 3, 2, 2, 2, 3, 3, 6, 2, 3, 6, 2, 3, 7, 5, 5, 3, 2, 2, 1, 2, 5, 3, 2, 2, 2, 2, 2, 1, 3, 1, 2, 2, 2, 3, 2, 0, 3, 4, 2, 2, 2, 2, 2, 0, 5, 7, 6, 7, 5, 2, 7, 7, 6, 1, 7, 6, 7, 0, 2, 3, 1, 2, 3, 0, 3, 3, 1, 2, 0, 3, 1, 6, 1, 7, 2, 6, 4, 2, 2, 2, 7, 1, 0, 3, 3, 2, 2, 0, 2, 1, 0, 0, 2, 3, 2, 3, 1, 3, 0, 6, 5, 2, 7, 2, 2, 3, 3, 2, 3, 3, 3, 7, 3, 1, 5, 1, 7, 6, 6, 3, 2, 1, 1, 1, 5, 3, 2, 3, 2, 2, 2, 2, 2, 2, 2, 2, 3, 1, 3, 2, 2, 3, 3, 5, 3, 3, 6, 5, 6, 3, 3, 0, 0, 5, 3, 3, 5, 5, 2, 7, 2, 3, 6, 5, 5, 3, 0, 2, 1, 5, 1, 3, 5, 3, 2, 3, 3, 2, 3, 3, 3, 6, 2, 0, 6, 2, 3, 4, 5, 0, 1, 3, 3, 2, 2, 2, 0, 3, 6, 3, 6, 6, 2, 3, 2, 2, 7, 3, 7, 7, 7, 2, 3, 3, 6, 7, 4, 2, 2, 4, 2, 5, 2, 0, 0, 2, 3, 3, 3, 3, 1, 1, 6, 4, 2, 3, 2, 4, 1, 4, 0, 4, 0, 2, 3, 3, 3, 3, 4, 3, 7, 7, 6, 0, 2, 2, 2, 2, 0, 7, 7, 6, 7, 3, 6, 3, 3, 3, 7, 1, 2, 0, 6, 2, 5, 3, 2, 6, 3, 3, 2, 2, 1, 3, 3, 3, 6, 3, 6, 3, 6, 7, 2, 2, 2, 2, 2, 3, 7, 7, 2, 3, 7, 3, 0, 0, 5, 5, 2, 2, 5, 0, 3, 2, 2, 7, 2, 2, 2, 3, 3, 4, 2, 3, 4, 4, 7, 6, 3, 2, 2, 2, 2, 2, 2, 1, 0, 1, 5, 2, 2, 2, 3, 2, 0, 3, 3, 3, 5, 5, 2, 1, 3, 2, 3, 5, 2, 4, 2, 3, 3, 2, 2, 5, 5, 3, 2, 2, 1, 3, 2, 2, 2, 2, 2, 2, 1, 0, 6, 3, 3, 5, 5, 3, 6, 4, 3, 3, 3, 1, 6, 3, 5, 5, 3, 3, 6, 2, 3, 1, 2, 7, 3, 2, 3, 5, 2, 2, 3, 2, 5, 7, 0, 6, 3, 2, 5, 4, 2, 2, 2, 3, 6, 0, 2, 2, 1, 2, 3, 3, 3, 7, 7, 7, 3, 3, 7, 2, 4, 4, 5, 2, 3, 3, 0, 5, 3, 1, 3, 3, 3, 4, 3, 4, 0, 2, 2, 1, 0, 3, 3, 3, 3, 2, 2, 2, 3, 4, 5, 6, 2, 5, 2, 2, 2, 3, 2, 2, 7, 6, 2, 6, 2, 6, 7, 6, 3, 3, 0, 3, 1, 0, 6, 4, 2, 3, 2, 1, 2, 0, 0, 4, 3, 7, 0, 4, 0, 4, 2, 3, 1, 3, 6, 2, 3, 4, 2, 2, 2, 2, 2, 3, 5, 2, 6, 6, 3, 5, 2, 2, 7, 5, 3, 3, 5, 2, 2, 7, 6, 2, 3, 6, 2, 7, 1, 2, 3, 3, 3, 2, 6, 1, 1, 3, 2, 2, 3, 5, 6, 3, 0, 2, 1, 2, 2, 2, 2, 2, 5, 1, 2, 5, 3, 2, 5, 6, 2, 1, 2, 3, 3, 3, 3, 1, 2, 3, 2, 6, 0, 2, 3, 3, 2, 2, 6, 5, 2, 6, 1, 6, 1, 2, 5, 2, 2, 2, 3, 5, 6, 1, 6, 3, 3, 7, 2, 3, 2, 5, 2, 2, 7, 1, 7, 5, 3, 3, 0, 1, 6, 7, 2, 0, 2, 0, 7, 3, 2, 3, 7, 3, 3, 3, 2, 7, 2, 2, 3, 0, 2, 3, 2, 5, 7, 7, 2, 6, 5, 1, 5, 5, 6, 2, 5, 0, 3, 3, 3, 3, 4, 7, 7, 6, 1, 1, 3, 7, 6, 2, 2, 2, 2, 3, 2, 1, 6, 3, 2, 2, 3, 7, 6, 7, 7, 3, 3, 0, 7, 3, 7, 7, 6, 2, 2, 3, 3, 3, 1, 3, 2, 3, 2, 3, 6, 2, 0, 2, 1, 5, 6, 1, 1, 6, 4, 7, 7, 3, 3, 7, 5, 3, 3, 2, 3, 5, 7, 0, 3, 7, 2, 3, 6, 0, 2, 3, 5, 0, 0, 5, 0, 3, 3, 0, 5, 5, 3, 0, 3, 0, 6, 2, 2, 7, 2, 3, 3, 5, 2, 2, 3, 2, 7, 2, 2, 3, 2, 5, 5, 5, 4, 4, 7, 0, 6, 3, 2, 0, 2, 7, 3, 2, 6, 2, 2, 3, 7, 3, 3, 0, 2, 3, 6, 4, 0, 2, 2, 2, 3, 3, 3, 3, 6, 7, 2, 0, 0, 3, 6, 0, 4, 3, 5, 6, 2, 2, 3, 3, 2, 2, 2, 7, 3, 2, 7, 3, 0, 3, 5, 7, 2, 2, 2, 3, 4, 2, 3, 3, 2, 6, 2, 2, 2, 2, 3, 3, 3, 7, 2, 6, 2, 5, 2, 3, 2, 2, 2, 2, 3, 3, 3, 2, 2, 3, 2, 2, 3, 2, 3, 1, 5, 6, 0, 3, 4, 3, 2, 3, 3, 3, 3, 2, 0, 2, 0, 0]\n"
     ]
    }
   ],
   "source": [
    "model_k_vec = KMeans(n_clusters=true_k, init='k-means++', max_iter=100, n_init=1)\n",
    "model_k_vec.fit(X_tfidf)\n",
    "clusters_vec = model_k_vec.labels_.tolist()\n",
    "print(clusters_vec)"
   ]
  },
  {
   "cell_type": "code",
   "execution_count": 133,
   "metadata": {
    "collapsed": true
   },
   "outputs": [
    {
     "data": {
      "text/plain": [
       "cluster_vec  intent     \n",
       "0            attack          75\n",
       "             defense         58\n",
       "             hang_on         16\n",
       "             none             7\n",
       "             ph              46\n",
       "             protect         79\n",
       "             self_attack      6\n",
       "             to_check         9\n",
       "1            attack          98\n",
       "             defense         43\n",
       "             hang_on         10\n",
       "             ph             108\n",
       "             protect         42\n",
       "             to_check         3\n",
       "2            attack         346\n",
       "             defense        167\n",
       "             hang_on         70\n",
       "             none           143\n",
       "             ph             228\n",
       "             protect        212\n",
       "             self_attack     21\n",
       "             to_check        46\n",
       "3            attack         500\n",
       "             defense        192\n",
       "             hang_on         63\n",
       "             none            13\n",
       "             ph             454\n",
       "             protect        204\n",
       "             self_attack     27\n",
       "             to_check        14\n",
       "4            attack         149\n",
       "             defense         29\n",
       "             hang_on          7\n",
       "             ph              62\n",
       "             protect         40\n",
       "             self_attack      5\n",
       "             to_check         1\n",
       "5            attack         108\n",
       "             defense         35\n",
       "             hang_on         35\n",
       "             none             1\n",
       "             ph             118\n",
       "             protect         45\n",
       "             self_attack      6\n",
       "             to_check         8\n",
       "6            attack         150\n",
       "             defense         34\n",
       "             hang_on         23\n",
       "             none             1\n",
       "             ph              81\n",
       "             protect         62\n",
       "             self_attack      4\n",
       "             to_check        13\n",
       "7            attack         178\n",
       "             defense         55\n",
       "             hang_on          9\n",
       "             ph             124\n",
       "             protect         54\n",
       "             self_attack      4\n",
       "             to_check         3\n",
       "dtype: int64"
      ]
     },
     "execution_count": 133,
     "metadata": {},
     "output_type": "execute_result"
    }
   ],
   "source": [
    "df['cluster_vec']=clusters_vec\n",
    "df.groupby(['cluster_vec','intent']).size()"
   ]
  },
  {
   "cell_type": "code",
   "execution_count": 134,
   "metadata": {},
   "outputs": [
    {
     "name": "stdout",
     "output_type": "stream",
     "text": [
      "0 1.74059743973\n",
      "1 1.44060532582\n",
      "2 1.84697533206\n",
      "3 1.56530879675\n",
      "4 1.35134786738\n",
      "5 1.61602279908\n",
      "6 1.57566404847\n",
      "7 1.40925032401\n",
      "12.5457719333\n"
     ]
    }
   ],
   "source": [
    "entropy = 0\n",
    "for cl in set(clusters_vec):\n",
    "    data = df['intent'][df.cluster_vec==cl]\n",
    "    entro= ent(data)\n",
    "    print(cl,entro)\n",
    "    entropy += entro\n",
    "    \n",
    "print(entropy)"
   ]
  },
  {
   "cell_type": "code",
   "execution_count": 138,
   "metadata": {
    "collapsed": true
   },
   "outputs": [],
   "source": [
    "df[['episode','timestamp','player','character','speech','segmented','intent']].to_csv('data_speech_all.csv', sep='\\t', encoding='utf-8')\n"
   ]
  }
 ],
 "metadata": {
  "kernelspec": {
   "display_name": "Python 3",
   "language": "python",
   "name": "python3"
  },
  "language_info": {
   "codemirror_mode": {
    "name": "ipython",
    "version": 3
   },
   "file_extension": ".py",
   "mimetype": "text/x-python",
   "name": "python",
   "nbconvert_exporter": "python",
   "pygments_lexer": "ipython3",
   "version": "3.6.3"
  }
 },
 "nbformat": 4,
 "nbformat_minor": 2
}
